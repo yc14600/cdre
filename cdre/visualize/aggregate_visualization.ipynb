{
 "cells": [
  {
   "cell_type": "code",
   "execution_count": 1,
   "metadata": {},
   "outputs": [
    {
     "name": "stdout",
     "output_type": "stream",
     "text": [
      "WARNING:tensorflow:\n",
      "The TensorFlow contrib module will not be included in TensorFlow 2.0.\n",
      "For more information, please see:\n",
      "  * https://github.com/tensorflow/community/blob/master/rfcs/20180907-contrib-sunset.md\n",
      "  * https://github.com/tensorflow/addons\n",
      "  * https://github.com/tensorflow/io (for I/O related ops)\n",
      "If you depend on functionality not listed there, please file an issue.\n",
      "\n",
      "WARNING:tensorflow:From /home/yu/gits/p36env/lib/python3.6/site-packages/edward-1.3.5-py3.6.egg/edward/inferences/conjugacy/simplify.py:20: The name tf.log is deprecated. Please use tf.math.log instead.\n",
      "\n",
      "WARNING:tensorflow:From /home/yu/gits/p36env/lib/python3.6/site-packages/edward-1.3.5-py3.6.egg/edward/inferences/conjugacy/simplify.py:24: The name tf.reciprocal is deprecated. Please use tf.math.reciprocal instead.\n",
      "\n",
      "WARNING:tensorflow:From /home/yu/gits/p36env/lib/python3.6/site-packages/utils-0.0.1-py3.6.egg/utils/train_util.py:562: The name tf.GraphKeys is deprecated. Please use tf.compat.v1.GraphKeys instead.\n",
      "\n"
     ]
    }
   ],
   "source": [
    "import numpy as np\n",
    "import pandas as pd\n",
    "import os \n",
    "import six\n",
    "import seaborn as sn\n",
    "import matplotlib.pyplot as plt\n",
    "from utils.test_util import calc_divgenerce\n",
    "from utils.data_util import save_samples, extract_data, load_inception_net\n",
    "from aggre_results import *"
   ]
  },
  {
   "cell_type": "code",
   "execution_count": 2,
   "metadata": {},
   "outputs": [],
   "source": [
    "import os\n",
    "path = os.getcwd()\n",
    "import sys\n",
    "sys.path.append(path+'/../../')\n",
    "#import prd.prd_score as prd"
   ]
  },
  {
   "cell_type": "code",
   "execution_count": 3,
   "metadata": {},
   "outputs": [],
   "source": [
    "import matplotlib as mtp\n",
    "mtp.rcParams['pdf.fonttype'] = 42\n",
    "mtp.rcParams['ps.fonttype'] = 42"
   ]
  },
  {
   "cell_type": "code",
   "execution_count": 4,
   "metadata": {},
   "outputs": [],
   "source": [
    "%matplotlib inline"
   ]
  },
  {
   "cell_type": "code",
   "execution_count": null,
   "metadata": {},
   "outputs": [],
   "source": []
  },
  {
   "cell_type": "code",
   "execution_count": 5,
   "metadata": {},
   "outputs": [],
   "source": [
    "def aggreate_divergence(path):\n",
    "    sd = os.listdir(path)\n",
    "    data = []\n",
    "    for s in sd:\n",
    "        print(s)\n",
    "        if '.' in s:\n",
    "            continue\n",
    "\n",
    "        #ds = np.loadtxt(path+s+'/divergence_compare.csv',delimiter=',')\n",
    "        ds = np.loadtxt(path+s+'/kl.csv',delimiter=',')\n",
    "        data.append(ds)\n",
    "    n = len(data)\n",
    "    data = np.vstack(data)\n",
    "    data = data.reshape(n,-1,data.shape[-1])\n",
    "    return data"
   ]
  },
  {
   "cell_type": "code",
   "execution_count": 6,
   "metadata": {},
   "outputs": [],
   "source": [
    "def aggreate_score(path,stype='fid',file_id=[0]):\n",
    "    sd = os.listdir(path)\n",
    "    data = []\n",
    "    for s in sd:\n",
    "        print(s)\n",
    "        if '.' in s:\n",
    "            continue\n",
    "        #print(path+s+'/'+stype+'.csv')\n",
    "        if stype in ['prd_seg','prd_half']:\n",
    "            for fi in file_id:\n",
    "                #print('fi',fi)\n",
    "                ds = np.loadtxt(path+s+'/'+stype+str(fi)+'.csv',delimiter=',')\n",
    "                data.append(ds)\n",
    "                #print(len(data))\n",
    "        else:\n",
    "            ds = np.loadtxt(path+s+'/'+stype+'.csv',delimiter=',')\n",
    "        #print(ds.shape)\n",
    "        if stype in ['fid','kl','prd']:\n",
    "            #print('load score',ds)\n",
    "            data.append(ds)\n",
    "            \n",
    "        elif stype == 'kid':\n",
    "            if len(ds.shape) > 1:\n",
    "                data.append(ds[:,0])\n",
    "            else:\n",
    "                data.append(ds[0])\n",
    "    n = len(data)\n",
    "    #print(n)\n",
    "    if 'prd' not in stype:\n",
    "        data = np.vstack(data)\n",
    "        data = data.reshape(n,data.shape[-1])\n",
    "        \n",
    "    return data"
   ]
  },
  {
   "cell_type": "code",
   "execution_count": 7,
   "metadata": {},
   "outputs": [],
   "source": [
    "def get_divergence(data,type='kl'):\n",
    "    if type == 'kl':\n",
    "        t = 0\n",
    "        e = 1\n",
    "    elif type == 'tv':\n",
    "        t = 5\n",
    "        e = 6\n",
    "    elif type == 'chi':\n",
    "        t = 7\n",
    "        e = 8\n",
    "        \n",
    "    true_mean = np.mean(data[:,t,:],axis=0)\n",
    "    true_std = np.std(data[:,t,:],axis=0)\n",
    "    est_mean = np.mean(data[:,e,:],axis=0)\n",
    "    est_std = np.std(data[:,e,:],axis=0)\n",
    "    \n",
    "    return true_mean,true_std,est_mean,est_std"
   ]
  },
  {
   "cell_type": "code",
   "execution_count": 8,
   "metadata": {},
   "outputs": [],
   "source": [
    "def get_divergence_err(data,type='kl'):\n",
    "    if type == 'kl':\n",
    "        t = 0\n",
    "        e = 1\n",
    "    elif type == 'tv':\n",
    "        t = 5\n",
    "        e = 6\n",
    "    elif type == 'chi':\n",
    "        t = 7\n",
    "        e = 8\n",
    "        \n",
    "    true_mean = np.mean(data[:,t,:],axis=0)\n",
    "    true_std = np.std(data[:,t,:],axis=0)\n",
    "    est_err_mean = np.mean(np.abs(data[:,e,:]-true_mean),axis=0)\n",
    "    est_err_std = np.std(np.abs(data[:,e,:]-true_mean),axis=0)\n",
    "    \n",
    "    return true_mean,true_std,est_err_mean,est_err_std"
   ]
  },
  {
   "cell_type": "code",
   "execution_count": 9,
   "metadata": {},
   "outputs": [],
   "source": [
    "def get_ratio_err(data,type='mae'):\n",
    "    rt = []\n",
    "    for ds in data:\n",
    "        rt_s = []\n",
    "        for ds_t in ds:\n",
    "            if 'log' not in type: \n",
    "                estd = np.exp(ds_t[:,1])\n",
    "                true = np.exp(ds_t[:,2])\n",
    "            else:\n",
    "                estd = ds_t[:,1]\n",
    "                true = ds_t[:,2]\n",
    "            if 'mae' in type:\n",
    "                err = np.mean(np.abs(estd-true))\n",
    "            elif 'mse' in type:\n",
    "                err = np.mean(np.square(estd-true))\n",
    "                    \n",
    "            rt_s.append(err)\n",
    "        rt.append(rt_s)\n",
    "    return rt"
   ]
  },
  {
   "cell_type": "code",
   "execution_count": 10,
   "metadata": {},
   "outputs": [],
   "source": [
    "def aggregate_ratio(path,T=10):\n",
    "    sd = os.listdir(path)\n",
    "    data = []\n",
    "    for s in sd:\n",
    "        print(s)\n",
    "        if '.' in s:\n",
    "            continue\n",
    "        dt = []\n",
    "        for t in range(T):\n",
    "            try:\n",
    "                ds = pd.read_csv(path+s+'/sample_ratios_t_t'+str(t+1)+'.csv').values            \n",
    "                dt.append(ds)\n",
    "            except FileNotFoundError:\n",
    "                continue\n",
    "        data.append(dt)\n",
    "    return data"
   ]
  },
  {
   "cell_type": "code",
   "execution_count": null,
   "metadata": {},
   "outputs": [],
   "source": []
  },
  {
   "cell_type": "code",
   "execution_count": 11,
   "metadata": {},
   "outputs": [],
   "source": [
    "def cal_div_by_ratio(div_type,paths,T=10,S=5,condition=False):\n",
    "    div_means,div_stds = [],[]\n",
    "    for p in paths:\n",
    "        print(p)\n",
    "        data = aggregate_ratio(p,T)\n",
    "        divs=[]\n",
    "        true_divs=[]\n",
    "        for s in range(S):\n",
    "            if T>1:\n",
    "                ds = []\n",
    "                true = []\n",
    "                for t in range(T):\n",
    "                    #print(s,t)\n",
    "                    rd = data[s][t]\n",
    "                    \n",
    "                    samples_c = one_hot_encoder(rd[:,-1],T) if condition else None\n",
    "                    div = calc_divgenerce(div_type,[rd[:,1]],samples_c)\n",
    "                    true_div = calc_divgenerce(div_type,[rd[:,2]],samples_c)\n",
    "                    #print(div)\n",
    "                    if condition:\n",
    "                        ds.append(div[0][:t+1].mean())\n",
    "                        true.append(true_div[0][:t+1].mean())\n",
    "                    else:\n",
    "                        ds.append(div[0])\n",
    "                        true.append(true_div[0])\n",
    "                    #print(ds[-1])\n",
    "                divs.append(ds)\n",
    "                true_divs.append(true)\n",
    "            else:\n",
    "                div = calc_divgenerce(div_type,[data[s]])\n",
    "                divs.append(div)\n",
    "\n",
    "        divs=np.vstack(divs)\n",
    "        d_mean = np.mean(divs,axis=0)\n",
    "        d_std = np.std(divs,axis=0)\n",
    "        div_means.append(d_mean)\n",
    "        div_stds.append(d_std)\n",
    "    return div_means,div_stds,np.array(true_divs)"
   ]
  },
  {
   "cell_type": "code",
   "execution_count": 12,
   "metadata": {},
   "outputs": [],
   "source": [
    "def aggregate_paths(paths,ftype='div',file_id=[0]):\n",
    "    data = []\n",
    "    for p in paths:\n",
    "        if ftype=='div':\n",
    "            d = aggreate_divergence(p)\n",
    "        elif ftype in ['fid','kid','kl','prd','prd_seg','prd_half']:\n",
    "            d = aggreate_score(p,ftype,file_id)\n",
    "        data.append(d)\n",
    "    return data"
   ]
  },
  {
   "cell_type": "code",
   "execution_count": 82,
   "metadata": {},
   "outputs": [],
   "source": [
    "t_num = 10\n",
    "paths = ['../results/cond_cl_d64_s50000_kl/dre_t10/','../results/cond_cl_d64_s50000_kl/cdre_t10/']\n",
    "#paths = ['../results/cl_d64_s50000_kl/cdre_t5/']\n",
    "#['../results/cl_d100_s50000_kl/cdre/lam100/b2000/','../results/cl_d100_s50000_kl/cdre/lam10/b2000/increase/','../results/cl_d100_s50000_kl/cdre/lam1/b2000/increase/']\n",
    "#['../results/cl_d100_s10000_kl/KL/cdre/','../results/cl_d100_s10000_kl/KL/dre/','../results/cl_d100_s10000_kl/hellinger/cdre/','../results/cl_d100_s10000_kl/hellinger/dre/'] "
   ]
  },
  {
   "cell_type": "code",
   "execution_count": 85,
   "metadata": {
    "scrolled": true
   },
   "outputs": [
    {
     "name": "stdout",
     "output_type": "stream",
     "text": [
      "cond_cl_ratio_test_d64_sd1_Thu-Aug-13-225847-2020\n",
      "cond_cl_ratio_test_d64_sd7_Fri-Aug-14-011030-2020\n",
      "cond_cl_ratio_test_d64_sd2_Thu-Aug-13-231939-2020\n",
      "cond_cl_ratio_test_d64_sd6_Fri-Aug-14-004859-2020\n",
      "cond_cl_ratio_test_d64_sd3_Thu-Aug-13-234002-2020\n",
      "cond_cl_ratio_test_d64_sd9_Fri-Aug-14-014635-2020\n",
      "cond_cl_ratio_test_d64_sd5_Fri-Aug-14-002904-2020\n",
      "cond_cl_ratio_test_d64_sd4_Fri-Aug-14-000537-2020\n",
      "cond_cl_ratio_test_d64_sd8_Fri-Aug-14-012734-2020\n",
      "cond_cl_ratio_test_d64_sd0_Thu-Aug-13-223807-2020\n",
      "cond_cl_ratio_test_d64_sd7_Fri-Aug-14-035201-2020\n",
      "cond_cl_ratio_test_d64_sd6_Fri-Aug-14-034217-2020\n",
      "cond_cl_ratio_test_d64_sd8_Fri-Aug-14-040219-2020\n",
      "cond_cl_ratio_test_d64_sd9_Fri-Aug-14-042125-2020\n",
      "cond_cl_ratio_test_d64_sd1_Fri-Aug-14-020729-2020\n",
      "cond_cl_ratio_test_d64_sd4_Fri-Aug-14-024924-2020\n",
      "cond_cl_ratio_test_d64_sd0_Thu-Aug-13-220431-2020\n",
      "cond_cl_ratio_test_d64_sd3_Fri-Aug-14-023504-2020\n",
      "cond_cl_ratio_test_d64_sd5_Fri-Aug-14-030753-2020\n",
      "cond_cl_ratio_test_d64_sd2_Fri-Aug-14-021737-2020\n"
     ]
    }
   ],
   "source": [
    "kl_means,kl_stds = [],[]\n",
    "for path in paths:\n",
    "    data = aggreate_divergence(path)\n",
    "    true_kl_mean,true_kl_std,kl_mean,kl_std = get_divergence(data,type='kl')\n",
    "    kl_means.append(kl_mean)\n",
    "    kl_stds.append(kl_std)\n"
   ]
  },
  {
   "cell_type": "code",
   "execution_count": 64,
   "metadata": {},
   "outputs": [],
   "source": [
    "#kl_means[0] = [kl_means[0][i*2+1] for i in range(10)]\n",
    "#kl_stds[0] = [kl_stds[0][i*2+1] for i in range(10)]"
   ]
  },
  {
   "cell_type": "code",
   "execution_count": 53,
   "metadata": {},
   "outputs": [],
   "source": []
  },
  {
   "cell_type": "code",
   "execution_count": 21,
   "metadata": {
    "scrolled": false
   },
   "outputs": [
    {
     "name": "stdout",
     "output_type": "stream",
     "text": [
      "../results/cond_cl_d64_s50000_kl/dre_t10/\n",
      "cond_cl_ratio_test_d64_sd1_Thu-Aug-13-225847-2020\n",
      "cond_cl_ratio_test_d64_sd7_Fri-Aug-14-011030-2020\n",
      "cond_cl_ratio_test_d64_sd2_Thu-Aug-13-231939-2020\n",
      "cond_cl_ratio_test_d64_sd6_Fri-Aug-14-004859-2020\n",
      "cond_cl_ratio_test_d64_sd3_Thu-Aug-13-234002-2020\n",
      "cond_cl_ratio_test_d64_sd9_Fri-Aug-14-014635-2020\n",
      "cond_cl_ratio_test_d64_sd5_Fri-Aug-14-002904-2020\n",
      "cond_cl_ratio_test_d64_sd4_Fri-Aug-14-000537-2020\n",
      "cond_cl_ratio_test_d64_sd8_Fri-Aug-14-012734-2020\n",
      "cond_cl_ratio_test_d64_sd0_Thu-Aug-13-223807-2020\n",
      "../results/cond_cl_d64_s50000_kl/cdre_t10/\n",
      "cond_cl_ratio_test_d64_sd7_Fri-Aug-14-035201-2020\n",
      "cond_cl_ratio_test_d64_sd6_Fri-Aug-14-034217-2020\n",
      "cond_cl_ratio_test_d64_sd8_Fri-Aug-14-040219-2020\n",
      "cond_cl_ratio_test_d64_sd9_Fri-Aug-14-042125-2020\n",
      "cond_cl_ratio_test_d64_sd1_Fri-Aug-14-020729-2020\n",
      "cond_cl_ratio_test_d64_sd4_Fri-Aug-14-024924-2020\n",
      "cond_cl_ratio_test_d64_sd0_Thu-Aug-13-220431-2020\n",
      "cond_cl_ratio_test_d64_sd3_Fri-Aug-14-023504-2020\n",
      "cond_cl_ratio_test_d64_sd5_Fri-Aug-14-030753-2020\n",
      "cond_cl_ratio_test_d64_sd2_Fri-Aug-14-021737-2020\n"
     ]
    }
   ],
   "source": [
    "\n",
    "div_type = 'KL'\n",
    "div_means, div_stds, true_divs = cal_div_by_ratio(div_type,paths,T=t_num)"
   ]
  },
  {
   "cell_type": "code",
   "execution_count": 65,
   "metadata": {},
   "outputs": [
    {
     "name": "stdout",
     "output_type": "stream",
     "text": [
      "cl_ratio_test_d64_Wed-Aug-12-021540-2020\n",
      "cl_ratio_test_d64_Wed-Aug-12-023440-2020\n",
      "cl_ratio_test_d64_Wed-Aug-12-022430-2020\n",
      "cl_ratio_test_d64_Wed-Aug-12-022019-2020\n",
      "cl_ratio_test_d64_Tue-Aug-11-225541-2020\n",
      "cl_ratio_test_d64_Wed-Aug-12-022945-2020\n",
      "cl_ratio_test_d64_Wed-Aug-12-021042-2020\n",
      "cl_ratio_test_d64_Wed-Aug-12-023947-2020\n",
      "cl_ratio_test_d64_Wed-Aug-12-024840-2020\n",
      "cl_ratio_test_d64_Wed-Aug-12-024405-2020\n",
      "cl_ratio_test_d64_Wed-Aug-12-013540-2020\n",
      "cl_ratio_test_d64_Wed-Aug-12-004701-2020\n",
      "cl_ratio_test_d64_Wed-Aug-12-002422-2020\n",
      "cl_ratio_test_d64_Wed-Aug-12-015856-2020\n",
      "cl_ratio_test_d64_Wed-Aug-12-010027-2020\n",
      "cl_ratio_test_d64_Wed-Aug-12-012139-2020\n",
      "cl_ratio_test_d64_Wed-Aug-12-001244-2020\n",
      "cl_ratio_test_d64_Tue-Aug-11-220539-2020\n",
      "cl_ratio_test_d64_Wed-Aug-12-003632-2020\n",
      "cl_ratio_test_d64_Wed-Aug-12-011011-2020\n",
      "cl_ratio_test_d64_Tue-Aug-11-222334-2020\n",
      "cl_ratio_test_d64_Wed-Aug-12-014701-2020\n"
     ]
    }
   ],
   "source": [
    "err_means, err_stds = [], []\n",
    "ratios=[]\n",
    "for path in paths:\n",
    "    data = aggregate_ratio(path,T=t_num)\n",
    "    err = get_ratio_err(data,type='logmae')\n",
    "    err = np.array(err)\n",
    "    err_means.append(np.mean(err,axis=0))\n",
    "    err_stds.append(np.std(err,axis=0))\n",
    "    ratios.append(data)"
   ]
  },
  {
   "cell_type": "code",
   "execution_count": 66,
   "metadata": {},
   "outputs": [],
   "source": [
    "#err_means[0] = [err_means[0][i*2+1] for i in range(10)]\n",
    "#err_stds[0] = [err_stds[0][i*2+1] for i in range(10)]"
   ]
  },
  {
   "cell_type": "code",
   "execution_count": 124,
   "metadata": {},
   "outputs": [
    {
     "data": {
      "text/plain": [
       "(1.0000004560983455, 0.053556936261592046)"
      ]
     },
     "execution_count": 124,
     "metadata": {},
     "output_type": "execute_result"
    }
   ],
   "source": [
    "np.mean(np.exp(data[0][9][:,1])), np.mean(np.exp(data[0][9][:,2]))"
   ]
  },
  {
   "cell_type": "code",
   "execution_count": 30,
   "metadata": {},
   "outputs": [
    {
     "data": {
      "text/plain": [
       "array([-1.7013485 , -1.7013485 , -1.17590384, -1.17590384])"
      ]
     },
     "execution_count": 30,
     "metadata": {},
     "output_type": "execute_result"
    }
   ],
   "source": [
    "data[4][9][1]"
   ]
  },
  {
   "cell_type": "code",
   "execution_count": 31,
   "metadata": {},
   "outputs": [
    {
     "data": {
      "text/plain": [
       "0.2518910006640994"
      ]
     },
     "execution_count": 31,
     "metadata": {},
     "output_type": "execute_result"
    }
   ],
   "source": [
    "np.median(np.abs(np.exp(data[0][9][:,1]) - np.exp(data[0][9][:,2])))"
   ]
  },
  {
   "cell_type": "code",
   "execution_count": 32,
   "metadata": {},
   "outputs": [
    {
     "data": {
      "image/png": "[encoded data removed]",
      "text/plain": [
       "<Figure size 432x288 with 1 Axes>"
      ]
     },
     "metadata": {
      "needs_background": "light"
     },
     "output_type": "display_data"
    }
   ],
   "source": [
    "sn.distplot(data[0][4][:,2])\n",
    "for data in ratios:\n",
    "    sn.distplot(data[0][4][:,1])"
   ]
  },
  {
   "cell_type": "code",
   "execution_count": 42,
   "metadata": {},
   "outputs": [],
   "source": [
    "#err_means2 = err_means\n",
    "#err_stds2 = err_stds"
   ]
  },
  {
   "cell_type": "code",
   "execution_count": 201,
   "metadata": {},
   "outputs": [
    {
     "data": {
      "text/plain": [
       "20"
      ]
     },
     "execution_count": 201,
     "metadata": {},
     "output_type": "execute_result"
    }
   ],
   "source": [
    "len(true_divs[0])"
   ]
  },
  {
   "cell_type": "code",
   "execution_count": null,
   "metadata": {},
   "outputs": [],
   "source": []
  },
  {
   "cell_type": "code",
   "execution_count": 75,
   "metadata": {},
   "outputs": [
    {
     "data": {
      "image/png": "[encoded data removed]",
      "text/plain": [
       "<Figure size 432x288 with 1 Axes>"
      ]
     },
     "metadata": {},
     "output_type": "display_data"
    }
   ],
   "source": [
    "\n",
    "T=np.arange(t_num+1)\n",
    "T2=np.arange(0,t_num+1,4) \n",
    "sn.set_style('darkgrid')\n",
    "cmp = sn.color_palette(\"colorblind\")\n",
    "markers = ['o','>','s','*']\n",
    "#T = np.arange(1,len(true_kl_mean)+1)\n",
    "#plt.plot(T,true_kl_mean,color=cmp[0]) \n",
    "for i,(err_mean,err_std) in enumerate(zip(err_means,err_stds)):\n",
    "    plt.errorbar(T,[0]+list(err_mean),yerr=[0]+list(err_std),alpha=0.75,marker=markers[i],color=cmp[i+1])\n",
    "    #plt.plot(T,err_mean,color=cmp[i],marker=markers[i])\n",
    "    #plt.fill_between(T,err_mean-err_std,err_mean+err_std,alpha=0.3,color=cmp[i])\n",
    "i+=1\n",
    "for j,(err_mean,err_std) in enumerate(zip(err_means2,err_stds2)):\n",
    "    plt.errorbar(T2,[0]+list(err_mean),yerr=[0]+list(err_std),alpha=0.75,marker=markers[i],color=cmp[i+1])\n",
    "    \n",
    "#plt.errorbar(T,true_kl_mean,marker='.')\n",
    "#plt.errorbar(T,kl_mean,marker='.')\n",
    "#plt.legend([r'$KL^{*}$',r'${KL}_{cdre}:\\lambda_c=200$',r'${KL}_{cdre}:\\lambda_c=100$',r'${KL}_{cdre}:\\lambda_c=10$'],fontsize=14)\n",
    "plt.legend([r'KLIEP',r'CKLIEP-d1',r'CKLIEP-d4'],fontsize=12,loc=2)\n",
    "#plt.legend([r'CDRE-$\\lambda_c =100$',r'CDRE-$\\lambda_c =10$',r'CDRE-$\\lambda_c =1$'],fontsize=14,loc=0)\n",
    "#plt.legend(['CDRE','DRE'])\n",
    "plt.xlabel(r'$t$',fontsize=14)\n",
    "plt.ylabel('MAE of log ratio',fontsize=14)\n",
    "plt.xticks(T)\n",
    "#plt.savefig('../results/cl_d64_s50000_kl/logr_MAE.pdf')"
   ]
  },
  {
   "cell_type": "code",
   "execution_count": 43,
   "metadata": {},
   "outputs": [],
   "source": [
    "#kl_means2 = kl_means\n",
    "#kl_stds2 = kl_stds"
   ]
  },
  {
   "cell_type": "code",
   "execution_count": 88,
   "metadata": {},
   "outputs": [
    {
     "data": {
      "text/plain": [
       "<ErrorbarContainer object of 3 artists>"
      ]
     },
     "execution_count": 88,
     "metadata": {},
     "output_type": "execute_result"
    },
    {
     "data": {
      "image/png": "[encoded data removed]",
      "text/plain": [
       "<Figure size 432x288 with 1 Axes>"
      ]
     },
     "metadata": {},
     "output_type": "display_data"
    }
   ],
   "source": [
    "plt.errorbar(T,[0]+list(kl_mean),yerr=[0]+list(kl_std),alpha=0.75)"
   ]
  },
  {
   "cell_type": "code",
   "execution_count": 89,
   "metadata": {},
   "outputs": [
    {
     "data": {
      "image/png": "[encoded data removed]",
      "text/plain": [
       "<Figure size 432x288 with 1 Axes>"
      ]
     },
     "metadata": {},
     "output_type": "display_data"
    }
   ],
   "source": [
    "T=np.arange(t_num+1)\n",
    "T2=np.arange(0,t_num+1,4)\n",
    "sn.set_style('darkgrid')\n",
    "cmp = sn.color_palette(\"colorblind\")\n",
    "markers = ['o','>','s','*','.']\n",
    "#T0 = np.arange(1,len(true_kl_mean)+1)\n",
    "plt.plot(T,[0]+list(true_kl_mean),color='k') \n",
    "for i,(kl_mean,kl_std) in enumerate(zip(kl_means,kl_stds)):\n",
    "    plt.errorbar(T,[0]+list(kl_mean),yerr=[0]+list(kl_std),alpha=0.75,marker=markers[i],color=cmp[i+1])\n",
    "    #plt.plot(T,[0]+list(kl_mean),color=cmp[i+1],marker=markers[i+1])\n",
    "    #plt.fill_between(T,[0]+list(kl_mean-kl_std),[0]+list(kl_mean+kl_std),alpha=0.3,color=cmp[i+1])\n",
    "i+=1\n",
    "#for j,(kl_mean,kl_std) in enumerate(zip(kl_means2,kl_stds2)):\n",
    "    #plt.errorbar(T2,[0]+list(kl_mean),yerr=[0]+list(kl_std),alpha=0.75,marker=markers[i],color=cmp[i+1])\n",
    "    #plt.plot(T2,[0]+list(kl_mean),color=cmp[i+1],marker=markers[i+1])\n",
    "    #plt.fill_between(T2,[0]+list(kl_mean-kl_std),[0]+list(kl_mean+kl_std),alpha=0.3,color=cmp[i+1])\n",
    "    \n",
    "#plt.errorbar(T,true_kl_mean,marker='.')\n",
    "#plt.errorbar(T,kl_mean,marker='.')\n",
    "#plt.legend([r'$KL^{*}$',r'${KL}_{cdre}:\\lambda_c=200$',r'${KL}_{cdre}:\\lambda_c=100$',r'${KL}_{cdre}:\\lambda_c=10$'],fontsize=14)\n",
    "#plt.legend(['true',r'CDRE-$\\lambda_c =100$',r'CDRE-$\\lambda_c =10$',r'CDRE-$\\lambda_c =1$'],fontsize=14,loc=2)\n",
    "plt.legend(['true',r'KLIPE',r'CKLIEP',r'CKLIEP-d4'],loc=2)\n",
    "plt.xlabel(r'$t$',fontsize=14)\n",
    "plt.ylabel(r'Avg. KL divergence',fontsize=12)\n",
    "#plt.ylabel(r'Total variation distance',fontsize=12)\n",
    "plt.xticks(T)\n",
    "plt.savefig('../results/cond_cl_d64_s50000_kl/avg_KL_compare.pdf')"
   ]
  },
  {
   "cell_type": "code",
   "execution_count": 284,
   "metadata": {},
   "outputs": [
    {
     "data": {
      "text/plain": [
       "([<matplotlib.axis.XTick at 0x7fe965eec6d8>,\n",
       "  <matplotlib.axis.XTick at 0x7fe965ef6f28>,\n",
       "  <matplotlib.axis.XTick at 0x7fe965ef6cc0>,\n",
       "  <matplotlib.axis.XTick at 0x7fe965902b70>,\n",
       "  <matplotlib.axis.XTick at 0x7fe965902828>,\n",
       "  <matplotlib.axis.XTick at 0x7fe965909550>,\n",
       "  <matplotlib.axis.XTick at 0x7fe965909a20>,\n",
       "  <matplotlib.axis.XTick at 0x7fe965909f28>,\n",
       "  <matplotlib.axis.XTick at 0x7fe9661f8470>,\n",
       "  <matplotlib.axis.XTick at 0x7fe9661f8978>],\n",
       " <a list of 10 Text xticklabel objects>)"
      ]
     },
     "execution_count": 284,
     "metadata": {},
     "output_type": "execute_result"
    },
    {
     "data": {
      "image/png": "[encoded data removed]",
      "text/plain": [
       "<Figure size 432x288 with 1 Axes>"
      ]
     },
     "metadata": {},
     "output_type": "display_data"
    }
   ],
   "source": [
    "\n",
    "plt.errorbar(T,true_divs.mean(axis=0),yerr=true_divs.std(axis=0),color=cmp[0],marker=markers[0]) \n",
    "for i,(div_mean,div_std) in enumerate(zip(div_means,div_stds)):\n",
    "    #plt.errorbar(T,kl_mean,yerr=kl_std,alpha=0.75)\n",
    "    plt.plot(T,div_mean,color=cmp[i+1],marker=markers[i+1])\n",
    "    plt.fill_between(T,div_mean-div_std,div_mean+div_std,alpha=0.3,color=cmp[i+1])\n",
    "    \n",
    "#plt.errorbar(T,true_kl_mean,marker='.')\n",
    "#plt.errorbar(T,kl_mean,marker='.')\n",
    "#plt.legend([r'$KL^{*}$',r'${KL}_{cdre}:\\lambda_c=200$',r'${KL}_{cdre}:\\lambda_c=100$',r'${KL}_{cdre}:\\lambda_c=10$'],fontsize=14)\n",
    "plt.legend(['true',r'CDRE',r'DRE'],fontsize=14,loc=2)\n",
    "plt.xlabel(r'$t$',fontsize=14)\n",
    "#plt.ylabel(div_type,fontsize=14)\n",
    "#plt.ylabel(r'Pearson-$\\chi^2$ divergence',fontsize=12)\n",
    "plt.xticks(T)\n",
    "#plt.savefig('../vis_results/d100_Hg_chi.pdf')"
   ]
  },
  {
   "cell_type": "code",
   "execution_count": 33,
   "metadata": {},
   "outputs": [],
   "source": [
    "import tensorflow as tf"
   ]
  },
  {
   "cell_type": "code",
   "execution_count": null,
   "metadata": {},
   "outputs": [],
   "source": []
  },
  {
   "cell_type": "code",
   "execution_count": 18,
   "metadata": {},
   "outputs": [
    {
     "data": {
      "text/plain": [
       "<Container object of 3 artists>"
      ]
     },
     "execution_count": 18,
     "metadata": {},
     "output_type": "execute_result"
    },
    {
     "data": {
      "image/png": "[encoded data removed]",
      "text/plain": [
       "<matplotlib.figure.Figure at 0x7f9768530310>"
      ]
     },
     "metadata": {},
     "output_type": "display_data"
    }
   ],
   "source": [
    "T = np.arange(1,len(true_kl_mean)+1)\n",
    "#plt.errorbar(T,true_kl_mean,yerr=true_kl_std,marker='.')\n",
    "#plt.errorbar(T,kl_mean,yerr=kl_std,marker='.')\n",
    "plt.errorbar(T,true_kl_std,marker='.')\n",
    "plt.errorbar(T,kl_std,marker='.')"
   ]
  },
  {
   "cell_type": "code",
   "execution_count": 162,
   "metadata": {},
   "outputs": [],
   "source": [
    "true_tv_mean = np.mean(data[:,5,:],axis=0)\n",
    "true_tv_std = np.std(data[:,5,:],axis=0)\n",
    "tv_mean = np.mean(data[:,6,:],axis=0)\n",
    "tv_std = np.std(data[:,6,:],axis=0)"
   ]
  },
  {
   "cell_type": "code",
   "execution_count": 163,
   "metadata": {},
   "outputs": [
    {
     "data": {
      "image/png": "[encoded data removed]",
      "text/plain": [
       "<Figure size 432x288 with 1 Axes>"
      ]
     },
     "metadata": {
      "needs_background": "light"
     },
     "output_type": "display_data"
    }
   ],
   "source": [
    "plt.errorbar(np.arange(len(true_tv_mean)),true_tv_mean,yerr=true_tv_std)\n",
    "plt.errorbar(np.arange(len(tv_mean)),tv_mean,yerr=tv_std)\n",
    "plt.legend([r'$D_{TV}[p(X)|q_t({X})]$',r'$\\tilde{D}_{TV}[p(X)|q_t({X})]$'],fontsize=14)\n",
    "plt.xlabel(r'$t$',fontsize=14)\n",
    "plt.xticks(np.arange(len(tv_mean)))\n",
    "plt.savefig(path+'tv_compare.pdf')"
   ]
  },
  {
   "cell_type": "code",
   "execution_count": 164,
   "metadata": {},
   "outputs": [],
   "source": [
    "true_chi_mean = np.mean(data[:,7,:],axis=0)\n",
    "true_chi_std = np.std(data[:,7,:],axis=0)\n",
    "chi_mean = np.mean(data[:,8,:],axis=0)\n",
    "chi_std = np.std(data[:,8,:],axis=0)"
   ]
  },
  {
   "cell_type": "code",
   "execution_count": 165,
   "metadata": {},
   "outputs": [
    {
     "data": {
      "image/png": "[encoded data removed]",
      "text/plain": [
       "<Figure size 432x288 with 1 Axes>"
      ]
     },
     "metadata": {
      "needs_background": "light"
     },
     "output_type": "display_data"
    }
   ],
   "source": [
    "plt.errorbar(np.arange(len(true_chi_mean)),true_chi_mean,yerr=true_chi_std)\n",
    "plt.errorbar(np.arange(len(chi_mean)),chi_mean,yerr=chi_std)\n",
    "plt.legend([r'$D_{Chi}[p(X)|q_t({X})]$',r'$\\tilde{D}_{Chi}[p(X)|q_t({X})]$'],fontsize=14)\n",
    "plt.xlabel(r'$t$',fontsize=14)\n",
    "plt.xticks(np.arange(len(chi_mean)))\n",
    "plt.savefig(path+'Chi_compare.pdf')"
   ]
  },
  {
   "cell_type": "code",
   "execution_count": null,
   "metadata": {},
   "outputs": [],
   "source": []
  },
  {
   "cell_type": "code",
   "execution_count": null,
   "metadata": {},
   "outputs": [],
   "source": []
  },
  {
   "cell_type": "code",
   "execution_count": 65,
   "metadata": {},
   "outputs": [],
   "source": [
    "prf = './results/'\n",
    "#paths = ['wgan/cvae1','wgangp/cvae1','JS/cvae1','rvKL/cvae1']\n",
    "paths = ['wgan/fashion/cvae2','wgangp/fashion/cvae2','JS/fashion/cvae2','rvKL/fashion/cvae2']\n",
    "#paths = ['cond_cl_ratio_test_d784_mnist_wgan_s6000_5seeds_v2','JS/vae','cond_cl_ratio_test_d784_mnist_rvKL_s6000_5seeds','cond_cl_ratio_test_dvae_l1e-14_d64_mnist_wgan_s6000_5seeds','cond_cl_ratio_test_dvae_l1e-14_d64_mnist_JS_s6000_5seeds','cond_cl_ratio_test_dvae_l1e-14_d64_mnist_rvKL_s6000_5seeds']\n",
    "#paths = ['cl_ratio_test_d100_delta002_s10000_5seeds','cl_ratio_test_d100_delta002_5seeds','cl_ratio_test_d100_s10000_non_continual_5seeds','cl_ratio_test_d100_s50000_non_continual_5seeds']\n",
    "#paths = ['cl_ratio_test_d2_delta005_s10000_5seeds','cl_ratio_test_d2_delta005_5seeds','cl_ratio_test_d2_s10000_non_continual_5seeds','cl_ratio_test_d2_s50000_non_continual_5seeds']"
   ]
  },
  {
   "cell_type": "code",
   "execution_count": 66,
   "metadata": {},
   "outputs": [
    {
     "name": "stdout",
     "output_type": "stream",
     "text": [
      "cond_cl_ratio_test_d784_sd5_Sun-May-19-123655-2019\n",
      "cond_cl_ratio_test_d784_sd8_Sun-May-19-123655-2019\n",
      "cond_cl_ratio_test_d784_sd6_Sun-May-19-123655-2019\n",
      "cond_cl_ratio_test_d784_sd0_Sun-May-19-203034-2019\n",
      "cond_cl_ratio_test_d784_sd2_Sun-May-19-203034-2019\n",
      "cond_cl_ratio_test_d784_sd1_Sun-May-19-203034-2019\n",
      "cond_cl_ratio_test_d784_sd9_Sun-May-19-123655-2019\n",
      "cond_cl_ratio_test_d784_sd4_Sun-May-19-203034-2019\n",
      "cond_cl_ratio_test_d784_sd7_Sun-May-19-123655-2019\n",
      "cond_cl_ratio_test_d784_sd3_Sun-May-19-203034-2019\n",
      "cond_cl_ratio_test_d784_sd12_Mon-May-20-001913-2019\n",
      "cond_cl_ratio_test_d784_sd5_Sun-May-19-095213-2019\n",
      "cond_cl_ratio_test_d784_sd0_Sun-May-19-180203-2019\n",
      "cond_cl_ratio_test_d784_sd7_Sun-May-19-095213-2019\n",
      "cond_cl_ratio_test_d784_sd8_Sun-May-19-095213-2019\n",
      "cond_cl_ratio_test_d784_sd4_Sun-May-19-180203-2019\n",
      "cond_cl_ratio_test_d784_sd6_Sun-May-19-095213-2019\n",
      "cond_cl_ratio_test_d784_sd11_Mon-May-20-001913-2019\n",
      "cond_cl_ratio_test_d784_sd1_Sun-May-19-180203-2019\n",
      "cond_cl_ratio_test_d784_sd2_Sun-May-19-180203-2019\n",
      "cond_cl_ratio_test_d784_sd14_Mon-May-20-001913-2019\n",
      "cond_cl_ratio_test_d784_sd10_Mon-May-20-001913-2019\n",
      "cond_cl_ratio_test_d784_sd13_Mon-May-20-001913-2019\n",
      "cond_cl_ratio_test_d784_sd9_Sun-May-19-095213-2019\n",
      "cond_cl_ratio_test_d784_sd10_Mon-May-20-025216-2019\n",
      "cond_cl_ratio_test_d784_sd6_Sun-May-19-124128-2019\n",
      "cond_cl_ratio_test_d784_sd8_Sun-May-19-124128-2019\n",
      "cond_cl_ratio_test_d784_sd13_Mon-May-20-025216-2019\n",
      "cond_cl_ratio_test_d784_sd4_Sun-May-19-203533-2019\n",
      "cond_cl_ratio_test_d784_sd9_Sun-May-19-124128-2019\n",
      "cond_cl_ratio_test_d784_sd12_Mon-May-20-025216-2019\n",
      "cond_cl_ratio_test_d784_sd2_Sun-May-19-203533-2019\n",
      "cond_cl_ratio_test_d784_sd14_Mon-May-20-025216-2019\n",
      "cond_cl_ratio_test_d784_sd0_Sun-May-19-203533-2019\n",
      "cond_cl_ratio_test_d784_sd5_Sun-May-19-124128-2019\n",
      "cond_cl_ratio_test_d784_sd7_Sun-May-19-124128-2019\n",
      "cond_cl_ratio_test_d784_sd9_Sun-May-19-095754-2019\n",
      "cond_cl_ratio_test_d784_sd7_Sun-May-19-095754-2019\n",
      "cond_cl_ratio_test_d784_sd5_Sun-May-19-095754-2019\n",
      "cond_cl_ratio_test_d784_sd0_Sun-May-19-180203-2019\n",
      "cond_cl_ratio_test_d784_sd11_Mon-May-20-001913-2019\n",
      "cond_cl_ratio_test_d784_sd3_Sun-May-19-180203-2019\n",
      "cond_cl_ratio_test_d784_sd6_Sun-May-19-095754-2019\n",
      "cond_cl_ratio_test_d784_sd2_Sun-May-19-180203-2019\n",
      "cond_cl_ratio_test_d784_sd14_Mon-May-20-001913-2019\n",
      "cond_cl_ratio_test_d784_sd10_Mon-May-20-001913-2019\n",
      "cond_cl_ratio_test_d784_sd13_Mon-May-20-001913-2019\n"
     ]
    }
   ],
   "source": [
    "paths = [prf+p+'/' for p in paths]\n",
    "data = aggregate_paths(paths)"
   ]
  },
  {
   "cell_type": "code",
   "execution_count": null,
   "metadata": {},
   "outputs": [],
   "source": []
  },
  {
   "cell_type": "code",
   "execution_count": 67,
   "metadata": {},
   "outputs": [
    {
     "data": {
      "text/plain": [
       "4"
      ]
     },
     "execution_count": 67,
     "metadata": {},
     "output_type": "execute_result"
    }
   ],
   "source": [
    "len(data)"
   ]
  },
  {
   "cell_type": "code",
   "execution_count": 68,
   "metadata": {},
   "outputs": [],
   "source": [
    "kls = []\n",
    "for d in data:\n",
    "    true_kl_mean,true_kl_std,kl_mean,kl_std = get_divergence(d,type='kl')\n",
    "    kls.append([true_kl_mean,true_kl_std,kl_mean,kl_std])"
   ]
  },
  {
   "cell_type": "code",
   "execution_count": 69,
   "metadata": {},
   "outputs": [],
   "source": [
    "true_kl_mean,true_kl_std = kls[0][0],kls[0][1]"
   ]
  },
  {
   "cell_type": "code",
   "execution_count": 78,
   "metadata": {},
   "outputs": [
    {
     "data": {
      "image/png": "[encoded data removed]",
      "text/plain": [
       "<Figure size 576x396 with 1 Axes>"
      ]
     },
     "metadata": {},
     "output_type": "display_data"
    }
   ],
   "source": [
    "T = np.arange(1,len(true_kl_mean)+1)\n",
    "#plt.plot(T,true_kl_mean)\n",
    "#plt.plot(T,np.zeros(len(T)))\n",
    "for i in range(len(data)):\n",
    "    #plt.errorbar(T,kls[i][2],yerr=kls[i][3],uplims=True, lolims=True)\n",
    "    plt.fill_between(T,kls[i][0]-kls[i][1],kls[i][0]+kls[i][1],alpha=0.3)\n",
    "    plt.plot(T,kls[i][0])\n",
    "    #plt.errorbar(T,kls[i][0],yerr=kls[i][1],uplims=True, lolims=True)\n",
    "    #plt.errorbar(T,kls[i][2],marker='.')\n",
    "#plt.legend([r'$KL^*$',r'${KL}_{cdre},n_s=10000$',r'${KL}_{cdre},n_s=50000$',r'${KL}_{dre},n_s=10000$',r'${KL}_{dre},n_s=50000$'],fontsize=14)\n",
    "plt.legend([r'WGAN',r'WGAN-GP',r'f-GAN-JS',r'f-GAN-rvKL'],fontsize=17,loc=(0.4,0.6))\n",
    "plt.xlabel(r'$t$',fontsize=16)\n",
    "#plt.ylabel(r'$MAE$',fontsize=14)\n",
    "plt.ylabel(r'$KL_{cdre}$',fontsize=17)\n",
    "plt.xticks(T)\n",
    "plt.savefig('./results/aggregates/kl_compare_fashion_continual_m4_5seeds.pdf')"
   ]
  },
  {
   "cell_type": "code",
   "execution_count": 11,
   "metadata": {},
   "outputs": [
    {
     "name": "stdout",
     "output_type": "stream",
     "text": [
      "prd_test_mnist_noise_singleMon-Aug-19-152040-2019\n",
      "prd_test_mnist_noise_singleMon-Aug-19-151845-2019\n"
     ]
    }
   ],
   "source": [
    "prf = './results/prd_d784/mnist/batch_train/prd_test_mnist_noise/'#'../model_test/results/prd_half_convclss_d64/mnist/'\n",
    "out_path = './results/prd_d784/mnist/batch_train/'\n",
    "stype='prd'\n",
    "dim = 64\n",
    "models = ['WGAN','WGANGP','rvKL']#['JS']#\n",
    "dataset = 'mnist'\n",
    "#paths=['data','rev']\n",
    "paths = ['f50_nd1_5seeds/','f5_nd40_5seeds/']#[stype+'_test_'+dataset+'_'+m+'_d'+str(dim)+'_5seeds' for m in models]\n",
    "#paths = ['fid_test_mnist_WGAN_d64_5seeds','fid_test_mnist_WGANGP_d64_5seeds','fid_test_mnist_JS_d64_5seeds','fid_test_mnist_rvKL_d64_5seeds']#['fid_wgan_d1024','fid_wgangp_d1024','fid_JS_d1024','fid_rvKL_d1024']\n",
    "#paths = ['kid_test_mnist_WGAN_d512_5seeds','kid_test_mnist_WGANGP_d512_5seeds','kid_test_mnist_JS_d512_5seeds','kid_test_mnist_rvKL_d512_5seeds']\n",
    "paths = [prf+p for p in paths]#[prf+c+'/'+p+'/' for p in paths for c in ['task9_b']]#[prf+p+'/' for p in paths]##\n",
    "data = aggregate_paths(paths,ftype=stype,file_id=np.arange(2))"
   ]
  },
  {
   "cell_type": "code",
   "execution_count": 12,
   "metadata": {},
   "outputs": [
    {
     "data": {
      "text/plain": [
       "(2,)"
      ]
     },
     "execution_count": 12,
     "metadata": {},
     "output_type": "execute_result"
    }
   ],
   "source": [
    "len(data),"
   ]
  },
  {
   "cell_type": "code",
   "execution_count": 13,
   "metadata": {
    "scrolled": true
   },
   "outputs": [],
   "source": [
    "if  'prd' == stype:\n",
    "    prd_data = [(data[i][0][0],data[i][0][1]) for i in range(len(data))]\n",
    "    #prd.plot(prd_data,labels=['WGAN','WGAN-GP','f-GAN-JS','f-GAN-rvKL'],out_path=prf+'prd.pdf')\n",
    "    #prd.plot(prd_data,labels=['f-GAN-JS (stat.)','f-GAN-JS (cont.)'],out_path=prf+'prd.pdf')\n",
    "    prd.plot(prd_data,out_path=prf+'prd.pdf')\n",
    "elif stype in ['prd_seg','prd_half']:\n",
    "    colors = ['r','k','g']\n",
    "    lstyle = ['-','-.','--',':']\n",
    "    fig = plt.figure(figsize=(4.6, 4.6))\n",
    "    for m in range(len(data)):\n",
    "        prd_data = [(data[m][i][0],data[m][i][1]) for i in range(len(data[0]))]\n",
    "        #prd.plot(prd_data,labels=['WGAN','WGAN-GP','f-GAN-JS','f-GAN-rvKL'],out_path=prf+'prd.pdf')\n",
    "        #prd.plot(prd_data,labels=['f-GAN-JS (stat.)','f-GAN-JS (cont.)'],out_path=prf+'prd.pdf')\n",
    "        #prd.plot(prd_data,out_path=prf+'prd.pdf')\n",
    "        for k,(prec,rec) in enumerate(prd_data):\n",
    "            plt.plot(rec,prec,c=colors[m],alpha=0.75,linestyle=lstyle[k])\n",
    "            #plt.fill(rec,prec,c=colors[m],alpha=0.25)\n",
    "    plt.legend(['WGAN: high','WGAN: low','WGAN-GP: high','WGAN-GP: low','fGAN-rv_KL: high','fGAN-rv_KL: low'],fontsize=12)\n",
    "    #plt.legend(['fGAN-JS(s.t.): high','fGAN-JS(s.t.): low','fGAN-JS(c.t.): high','fGAN-JS(c.t.): low','fGAN-JS(c.t.): p1','fGAN-JS(c.t.): p2','fGAN-JS(c.t.): p3','fGAN-JS(c.t.): p4'],fontsize=12,loc=(0.45,0.7))\n",
    "\n",
    "    plt.xlabel('Recall',fontsize=15)\n",
    "    plt.ylabel('Precision',fontsize=15)\n",
    "    plt.xlim([0, .8])\n",
    "    plt.xticks(fontsize=12)\n",
    "    plt.yticks(fontsize=12)\n",
    "    plt.ylim([0, 1])\n",
    "    plt.tight_layout()\n",
    "    plt.savefig(prf+stype+'_half_100bins.pdf',bbox_inches='tight')"
   ]
  },
  {
   "cell_type": "code",
   "execution_count": null,
   "metadata": {},
   "outputs": [],
   "source": []
  },
  {
   "cell_type": "code",
   "execution_count": 56,
   "metadata": {},
   "outputs": [],
   "source": [
    "fid_means, fid_stds = [], []\n",
    "for d in data:\n",
    "    fid_mean = np.mean(d,axis=0)\n",
    "    fid_std = np.std(d,axis=0)\n",
    "    fid_means.append(fid_mean)\n",
    "    fid_stds.append(fid_std)"
   ]
  },
  {
   "cell_type": "code",
   "execution_count": 57,
   "metadata": {},
   "outputs": [
    {
     "data": {
      "text/plain": [
       "([array([ 28.02300502]),\n",
       "  array([ 45.80704222]),\n",
       "  array([ 19.95597926]),\n",
       "  array([ 169.04254087])],\n",
       " [array([  8.35454445e-14]),\n",
       "  array([  7.54648570e-14]),\n",
       "  array([  1.36426056e-13]),\n",
       "  array([  2.15705608e-13])])"
      ]
     },
     "execution_count": 57,
     "metadata": {},
     "output_type": "execute_result"
    }
   ],
   "source": [
    "fid_means,fid_stds"
   ]
  },
  {
   "cell_type": "code",
   "execution_count": 57,
   "metadata": {},
   "outputs": [
    {
     "data": {
      "image/png": "[encoded data removed]",
      "text/plain": [
       "<Figure size 576x396 with 1 Axes>"
      ]
     },
     "metadata": {},
     "output_type": "display_data"
    }
   ],
   "source": [
    "T = np.arange(1,len(fid_means[0])+1)\n",
    "\n",
    "for i in range(len(data)):\n",
    "    plt.plot(T,fid_means[i])\n",
    "    plt.fill_between(T,fid_means[i]-fid_stds[i],fid_means[i]+fid_stds[i],alpha=0.25)\n",
    "    #plt.errorbar(T,fid_means[i],yerr=fid_stds[i],uplims=True, lolims=True)\n",
    "plt.legend(['WGAN','WGAN-GP',r'$f$-GAN-JS',r'$f$-GAN-rvKL'],fontsize=14,loc=(0.7,0.1))\n",
    "if stype == 'fid':\n",
    "    plt.ylabel(r'$FID$',fontsize=14)\n",
    "elif stype == 'kid':\n",
    "    plt.ylabel(r'$KID$',fontsize=14)\n",
    "#plt.ylim(-0.000003,0.000015)\n",
    "plt.xticks(T)\n",
    "plt.xlabel(r'$t$',fontsize=14)\n",
    "plt.savefig('./results/aggregates/'+stype+'_mnist_comparison_dim'+str(dim)+'_convclss_m4_5seeds.pdf')"
   ]
  },
  {
   "cell_type": "code",
   "execution_count": 81,
   "metadata": {},
   "outputs": [],
   "source": [
    "current_palette = sn.color_palette()"
   ]
  },
  {
   "cell_type": "code",
   "execution_count": 82,
   "metadata": {},
   "outputs": [
    {
     "data": {
      "text/plain": [
       "[(0.2980392156862745, 0.4470588235294118, 0.6901960784313725),\n",
       " (0.3333333333333333, 0.6588235294117647, 0.40784313725490196),\n",
       " (0.7686274509803922, 0.3058823529411765, 0.3215686274509804),\n",
       " (0.5058823529411764, 0.4470588235294118, 0.6980392156862745),\n",
       " (0.8, 0.7254901960784313, 0.4549019607843137),\n",
       " (0.39215686274509803, 0.7098039215686275, 0.803921568627451)]"
      ]
     },
     "execution_count": 82,
     "metadata": {},
     "output_type": "execute_result"
    }
   ],
   "source": [
    "current_palette"
   ]
  },
  {
   "cell_type": "code",
   "execution_count": 109,
   "metadata": {},
   "outputs": [
    {
     "data": {
      "image/png": "[encoded data removed]",
      "text/plain": [
       "<matplotlib.figure.Figure at 0x7f8203dd23d0>"
      ]
     },
     "metadata": {},
     "output_type": "display_data"
    }
   ],
   "source": [
    "T = np.arange(1,len(fid_means[0])+1)\n",
    "fig, ax1 = plt.subplots()\n",
    "ax2 = ax1.twinx()\n",
    "for i in range(len(data)):\n",
    "    if i < 3:\n",
    "        ax1.plot(T,fid_means[i])\n",
    "        ax1.fill_between(T,fid_means[i]-fid_stds[i],fid_means[i]+fid_stds[i],alpha=0.25)\n",
    "    else:\n",
    "        ax2.plot(T,fid_means[i],color=current_palette[3])\n",
    "        ax2.fill_between(T,fid_means[i]-fid_stds[i],fid_means[i]+fid_stds[i],alpha=0.25)\n",
    "    #plt.errorbar(T,fid_means[i],yerr=fid_stds[i],uplims=True, lolims=True)\n",
    "\n",
    "if stype == 'fid':\n",
    "    ax1.set_ylabel(r'$FID$',fontsize=14)\n",
    "elif stype == 'kid':\n",
    "    ax1.set_ylabel(r'$KID$',fontsize=14)\n",
    "ax1.set_ylim(0.,35)\n",
    "ax1.set_yticks(np.arange(0,35,5))\n",
    "ax2.set_ylim(10.,150)\n",
    "ax2.set_yticks(np.arange(10,150,20))\n",
    "\n",
    "ax1.legend(['WGAN','WGAN-GP',r'$f$-GAN-JS'],fontsize=13,loc=(0.15,0.65))\n",
    "ax2.legend([r'$f$-GAN-rvKL'],fontsize=13,loc=(0.15,0.55))\n",
    "ax2.grid(False)\n",
    "plt.xticks(T)\n",
    "plt.xlabel(r'$t$',fontsize=14)\n",
    "plt.savefig('./results/aggregates/'+stype+'_fashion_comparison_dim'+str(dim)+'_convclss_m4_5seeds.pdf')"
   ]
  },
  {
   "cell_type": "code",
   "execution_count": 88,
   "metadata": {},
   "outputs": [
    {
     "name": "stdout",
     "output_type": "stream",
     "text": [
      "kl_test_MNIST_rev_splitWed-May-22-121644-2019\n",
      "kl_test_MNIST_rev_splitWed-May-22-122110-2019\n",
      "kl_test_MNIST_rev_splitWed-May-22-121530-2019\n",
      "kl_test_MNIST_rev_splitWed-May-22-121808-2019\n",
      "kl_test_MNIST_rev_splitWed-May-22-121940-2019\n"
     ]
    }
   ],
   "source": [
    "prf = '../model_test/results/split_mnist_convclss_d64/split/rvkl/'\n",
    "stype='kl'\n",
    "dim = 64\n",
    "models = ['WGAN','WGANGP','JS','rvKL']\n",
    "dataset = 'mnist'\n",
    "paths = ['rev']\n",
    "#paths = [stype+'_test_'+dataset+'_'+m+'_d'+str(dim)+'_5seeds' for m in models]\n",
    "#paths = ['fid_test_mnist_WGAN_d64_5seeds','fid_test_mnist_WGANGP_d64_5seeds','fid_test_mnist_JS_d64_5seeds','fid_test_mnist_rvKL_d64_5seeds']#['fid_wgan_d1024','fid_wgangp_d1024','fid_JS_d1024','fid_rvKL_d1024']\n",
    "#paths = ['kid_test_mnist_WGAN_d512_5seeds','kid_test_mnist_WGANGP_d512_5seeds','kid_test_mnist_JS_d512_5seeds','kid_test_mnist_rvKL_d512_5seeds']\n",
    "paths = [prf+p+'/' for p in paths]\n",
    "data = aggregate_paths(paths,ftype=stype)"
   ]
  },
  {
   "cell_type": "code",
   "execution_count": 89,
   "metadata": {},
   "outputs": [],
   "source": [
    "score_means, score_stds = [], []\n",
    "for d in data:\n",
    "    score_mean = np.mean(d)\n",
    "    score_std = np.std(d)\n",
    "    score_means.append(score_mean)\n",
    "    score_stds.append(score_std)"
   ]
  },
  {
   "cell_type": "code",
   "execution_count": 90,
   "metadata": {},
   "outputs": [
    {
     "data": {
      "text/plain": [
       "[array([[ 81.87407684],\n",
       "        [ 82.14892578],\n",
       "        [ 80.6271286 ],\n",
       "        [ 78.52101135],\n",
       "        [ 73.12002563]])]"
      ]
     },
     "execution_count": 90,
     "metadata": {},
     "output_type": "execute_result"
    }
   ],
   "source": [
    "data"
   ]
  },
  {
   "cell_type": "code",
   "execution_count": 91,
   "metadata": {},
   "outputs": [
    {
     "data": {
      "text/plain": [
       "([79.258233642578119], [3.32546851888999])"
      ]
     },
     "execution_count": 91,
     "metadata": {},
     "output_type": "execute_result"
    }
   ],
   "source": [
    "score_means,score_stds"
   ]
  },
  {
   "cell_type": "code",
   "execution_count": 92,
   "metadata": {},
   "outputs": [],
   "source": [
    "save_r = pd.DataFrame()\n",
    "save_r['mean'] = score_means\n",
    "save_r['std'] = score_stds\n",
    "save_r.to_csv(prf+'score.csv',index=False)"
   ]
  },
  {
   "cell_type": "code",
   "execution_count": 51,
   "metadata": {},
   "outputs": [
    {
     "data": {
      "text/plain": [
       "([<matplotlib.axis.XTick at 0x7f40f789f190>,\n",
       "  <matplotlib.axis.XTick at 0x7f40f7eae510>,\n",
       "  <matplotlib.axis.XTick at 0x7f40f7f294d0>,\n",
       "  <matplotlib.axis.XTick at 0x7f40f8547a50>],\n",
       " <a list of 4 Text xticklabel objects>)"
      ]
     },
     "execution_count": 51,
     "metadata": {},
     "output_type": "execute_result"
    },
    {
     "data": {
      "image/png": "[encoded data removed]",
      "text/plain": [
       "<matplotlib.figure.Figure at 0x7f40f86cf290>"
      ]
     },
     "metadata": {},
     "output_type": "display_data"
    }
   ],
   "source": [
    "x_ax = np.arange(len(data))\n",
    "plt.bar(x_ax,score_means,yerr=score_stds)\n",
    "plt.xticks(x_ax,['WGAN','WGAN-GP','f-GAN-JS','f-GAN-rvKL'])"
   ]
  },
  {
   "cell_type": "code",
   "execution_count": 369,
   "metadata": {},
   "outputs": [
    {
     "data": {
      "text/plain": [
       "([<matplotlib.axis.XTick at 0x7f284c491d50>,\n",
       "  <matplotlib.axis.XTick at 0x7f284c6d63d0>,\n",
       "  <matplotlib.axis.XTick at 0x7f284c42aed0>,\n",
       "  <matplotlib.axis.XTick at 0x7f284c437550>],\n",
       " <a list of 4 Text xticklabel objects>)"
      ]
     },
     "execution_count": 369,
     "metadata": {},
     "output_type": "execute_result"
    },
    {
     "data": {
      "image/png": "[encoded data removed]",
      "text/plain": [
       "<matplotlib.figure.Figure at 0x7f284c491a10>"
      ]
     },
     "metadata": {},
     "output_type": "display_data"
    }
   ],
   "source": [
    "plt.errorbar(x_ax,score_means,yerr=score_stds,fmt='rs')\n",
    "plt.xticks(x_ax,['WGAN','WGAN-GP','f-GAN-JS','f-GAN-rvKL'])"
   ]
  },
  {
   "cell_type": "code",
   "execution_count": 15,
   "metadata": {},
   "outputs": [],
   "source": [
    "def read_scores(paths,div_type=None):\n",
    "    score_means = []\n",
    "    score_stds = []\n",
    "    for p in paths:\n",
    "        if div_type is None or div_type=='kl':\n",
    "            s = pd.read_csv(p+'score.csv')\n",
    "        else:\n",
    "            s = pd.read_csv(p+div_type+'.csv')\n",
    "        \n",
    "        score_means.append(s['mean'].values)\n",
    "        score_stds.append(s['std'].values)\n",
    "    return score_means, score_stds"
   ]
  },
  {
   "cell_type": "code",
   "execution_count": 165,
   "metadata": {},
   "outputs": [
    {
     "ename": "IOError",
     "evalue": "File ../model_test/results/kl_convclss_d64/mnist/task9/kl_conv_vae_d64/mnist/batch_train/Jensen_Shannon.csv does not exist",
     "output_type": "error",
     "traceback": [
      "\u001b[0;31m---------------------------------------------------------------------------\u001b[0m",
      "\u001b[0;31mIOError\u001b[0m                                   Traceback (most recent call last)",
      "\u001b[0;32m<ipython-input-165-903e72d4d312>\u001b[0m in \u001b[0;36m<module>\u001b[0;34m()\u001b[0m\n\u001b[1;32m     10\u001b[0m         \u001b[0;32mfor\u001b[0m \u001b[0mm\u001b[0m \u001b[0;32min\u001b[0m \u001b[0mmodels\u001b[0m\u001b[0;34m:\u001b[0m\u001b[0;34m\u001b[0m\u001b[0m\n\u001b[1;32m     11\u001b[0m             \u001b[0mpaths\u001b[0m\u001b[0;34m.\u001b[0m\u001b[0mappend\u001b[0m\u001b[0;34m(\u001b[0m\u001b[0mroot\u001b[0m\u001b[0;34m+\u001b[0m\u001b[0mt\u001b[0m\u001b[0;34m+\u001b[0m\u001b[0mp\u001b[0m\u001b[0;34m+\u001b[0m\u001b[0mm\u001b[0m\u001b[0;34m)\u001b[0m\u001b[0;34m\u001b[0m\u001b[0m\n\u001b[0;32m---> 12\u001b[0;31m \u001b[0mmeans\u001b[0m\u001b[0;34m,\u001b[0m\u001b[0mstds\u001b[0m \u001b[0;34m=\u001b[0m \u001b[0mread_scores\u001b[0m\u001b[0;34m(\u001b[0m\u001b[0mpaths\u001b[0m\u001b[0;34m,\u001b[0m\u001b[0mdiv_type\u001b[0m\u001b[0;34m=\u001b[0m\u001b[0mdiv_type\u001b[0m\u001b[0;34m)\u001b[0m\u001b[0;34m\u001b[0m\u001b[0m\n\u001b[0m",
      "\u001b[0;32m<ipython-input-164-667920ce5962>\u001b[0m in \u001b[0;36mread_scores\u001b[0;34m(paths, div_type)\u001b[0m\n\u001b[1;32m      6\u001b[0m             \u001b[0ms\u001b[0m \u001b[0;34m=\u001b[0m \u001b[0mpd\u001b[0m\u001b[0;34m.\u001b[0m\u001b[0mread_csv\u001b[0m\u001b[0;34m(\u001b[0m\u001b[0mp\u001b[0m\u001b[0;34m+\u001b[0m\u001b[0;34m'score.csv'\u001b[0m\u001b[0;34m)\u001b[0m\u001b[0;34m\u001b[0m\u001b[0m\n\u001b[1;32m      7\u001b[0m         \u001b[0;32melse\u001b[0m\u001b[0;34m:\u001b[0m\u001b[0;34m\u001b[0m\u001b[0m\n\u001b[0;32m----> 8\u001b[0;31m             \u001b[0ms\u001b[0m \u001b[0;34m=\u001b[0m \u001b[0mpd\u001b[0m\u001b[0;34m.\u001b[0m\u001b[0mread_csv\u001b[0m\u001b[0;34m(\u001b[0m\u001b[0mp\u001b[0m\u001b[0;34m+\u001b[0m\u001b[0mdiv_type\u001b[0m\u001b[0;34m+\u001b[0m\u001b[0;34m'.csv'\u001b[0m\u001b[0;34m)\u001b[0m\u001b[0;34m\u001b[0m\u001b[0m\n\u001b[0m\u001b[1;32m      9\u001b[0m \u001b[0;34m\u001b[0m\u001b[0m\n\u001b[1;32m     10\u001b[0m         \u001b[0mscore_means\u001b[0m\u001b[0;34m.\u001b[0m\u001b[0mappend\u001b[0m\u001b[0;34m(\u001b[0m\u001b[0ms\u001b[0m\u001b[0;34m[\u001b[0m\u001b[0;34m'mean'\u001b[0m\u001b[0;34m]\u001b[0m\u001b[0;34m.\u001b[0m\u001b[0mvalues\u001b[0m\u001b[0;34m)\u001b[0m\u001b[0;34m\u001b[0m\u001b[0m\n",
      "\u001b[0;32m/usr/local/lib/python2.7/dist-packages/pandas/io/parsers.pyc\u001b[0m in \u001b[0;36mparser_f\u001b[0;34m(filepath_or_buffer, sep, delimiter, header, names, index_col, usecols, squeeze, prefix, mangle_dupe_cols, dtype, engine, converters, true_values, false_values, skipinitialspace, skiprows, nrows, na_values, keep_default_na, na_filter, verbose, skip_blank_lines, parse_dates, infer_datetime_format, keep_date_col, date_parser, dayfirst, iterator, chunksize, compression, thousands, decimal, lineterminator, quotechar, quoting, escapechar, comment, encoding, dialect, tupleize_cols, error_bad_lines, warn_bad_lines, skipfooter, skip_footer, doublequote, delim_whitespace, as_recarray, compact_ints, use_unsigned, low_memory, buffer_lines, memory_map, float_precision)\u001b[0m\n\u001b[1;32m    644\u001b[0m                     skip_blank_lines=skip_blank_lines)\n\u001b[1;32m    645\u001b[0m \u001b[0;34m\u001b[0m\u001b[0m\n\u001b[0;32m--> 646\u001b[0;31m         \u001b[0;32mreturn\u001b[0m \u001b[0m_read\u001b[0m\u001b[0;34m(\u001b[0m\u001b[0mfilepath_or_buffer\u001b[0m\u001b[0;34m,\u001b[0m \u001b[0mkwds\u001b[0m\u001b[0;34m)\u001b[0m\u001b[0;34m\u001b[0m\u001b[0m\n\u001b[0m\u001b[1;32m    647\u001b[0m \u001b[0;34m\u001b[0m\u001b[0m\n\u001b[1;32m    648\u001b[0m     \u001b[0mparser_f\u001b[0m\u001b[0;34m.\u001b[0m\u001b[0m__name__\u001b[0m \u001b[0;34m=\u001b[0m \u001b[0mname\u001b[0m\u001b[0;34m\u001b[0m\u001b[0m\n",
      "\u001b[0;32m/usr/local/lib/python2.7/dist-packages/pandas/io/parsers.pyc\u001b[0m in \u001b[0;36m_read\u001b[0;34m(filepath_or_buffer, kwds)\u001b[0m\n\u001b[1;32m    387\u001b[0m \u001b[0;34m\u001b[0m\u001b[0m\n\u001b[1;32m    388\u001b[0m     \u001b[0;31m# Create the parser.\u001b[0m\u001b[0;34m\u001b[0m\u001b[0;34m\u001b[0m\u001b[0m\n\u001b[0;32m--> 389\u001b[0;31m     \u001b[0mparser\u001b[0m \u001b[0;34m=\u001b[0m \u001b[0mTextFileReader\u001b[0m\u001b[0;34m(\u001b[0m\u001b[0mfilepath_or_buffer\u001b[0m\u001b[0;34m,\u001b[0m \u001b[0;34m**\u001b[0m\u001b[0mkwds\u001b[0m\u001b[0;34m)\u001b[0m\u001b[0;34m\u001b[0m\u001b[0m\n\u001b[0m\u001b[1;32m    390\u001b[0m \u001b[0;34m\u001b[0m\u001b[0m\n\u001b[1;32m    391\u001b[0m     \u001b[0;32mif\u001b[0m \u001b[0;34m(\u001b[0m\u001b[0mnrows\u001b[0m \u001b[0;32mis\u001b[0m \u001b[0;32mnot\u001b[0m \u001b[0mNone\u001b[0m\u001b[0;34m)\u001b[0m \u001b[0;32mand\u001b[0m \u001b[0;34m(\u001b[0m\u001b[0mchunksize\u001b[0m \u001b[0;32mis\u001b[0m \u001b[0;32mnot\u001b[0m \u001b[0mNone\u001b[0m\u001b[0;34m)\u001b[0m\u001b[0;34m:\u001b[0m\u001b[0;34m\u001b[0m\u001b[0m\n",
      "\u001b[0;32m/usr/local/lib/python2.7/dist-packages/pandas/io/parsers.pyc\u001b[0m in \u001b[0;36m__init__\u001b[0;34m(self, f, engine, **kwds)\u001b[0m\n\u001b[1;32m    728\u001b[0m             \u001b[0mself\u001b[0m\u001b[0;34m.\u001b[0m\u001b[0moptions\u001b[0m\u001b[0;34m[\u001b[0m\u001b[0;34m'has_index_names'\u001b[0m\u001b[0;34m]\u001b[0m \u001b[0;34m=\u001b[0m \u001b[0mkwds\u001b[0m\u001b[0;34m[\u001b[0m\u001b[0;34m'has_index_names'\u001b[0m\u001b[0;34m]\u001b[0m\u001b[0;34m\u001b[0m\u001b[0m\n\u001b[1;32m    729\u001b[0m \u001b[0;34m\u001b[0m\u001b[0m\n\u001b[0;32m--> 730\u001b[0;31m         \u001b[0mself\u001b[0m\u001b[0;34m.\u001b[0m\u001b[0m_make_engine\u001b[0m\u001b[0;34m(\u001b[0m\u001b[0mself\u001b[0m\u001b[0;34m.\u001b[0m\u001b[0mengine\u001b[0m\u001b[0;34m)\u001b[0m\u001b[0;34m\u001b[0m\u001b[0m\n\u001b[0m\u001b[1;32m    731\u001b[0m \u001b[0;34m\u001b[0m\u001b[0m\n\u001b[1;32m    732\u001b[0m     \u001b[0;32mdef\u001b[0m \u001b[0mclose\u001b[0m\u001b[0;34m(\u001b[0m\u001b[0mself\u001b[0m\u001b[0;34m)\u001b[0m\u001b[0;34m:\u001b[0m\u001b[0;34m\u001b[0m\u001b[0m\n",
      "\u001b[0;32m/usr/local/lib/python2.7/dist-packages/pandas/io/parsers.pyc\u001b[0m in \u001b[0;36m_make_engine\u001b[0;34m(self, engine)\u001b[0m\n\u001b[1;32m    921\u001b[0m     \u001b[0;32mdef\u001b[0m \u001b[0m_make_engine\u001b[0m\u001b[0;34m(\u001b[0m\u001b[0mself\u001b[0m\u001b[0;34m,\u001b[0m \u001b[0mengine\u001b[0m\u001b[0;34m=\u001b[0m\u001b[0;34m'c'\u001b[0m\u001b[0;34m)\u001b[0m\u001b[0;34m:\u001b[0m\u001b[0;34m\u001b[0m\u001b[0m\n\u001b[1;32m    922\u001b[0m         \u001b[0;32mif\u001b[0m \u001b[0mengine\u001b[0m \u001b[0;34m==\u001b[0m \u001b[0;34m'c'\u001b[0m\u001b[0;34m:\u001b[0m\u001b[0;34m\u001b[0m\u001b[0m\n\u001b[0;32m--> 923\u001b[0;31m             \u001b[0mself\u001b[0m\u001b[0;34m.\u001b[0m\u001b[0m_engine\u001b[0m \u001b[0;34m=\u001b[0m \u001b[0mCParserWrapper\u001b[0m\u001b[0;34m(\u001b[0m\u001b[0mself\u001b[0m\u001b[0;34m.\u001b[0m\u001b[0mf\u001b[0m\u001b[0;34m,\u001b[0m \u001b[0;34m**\u001b[0m\u001b[0mself\u001b[0m\u001b[0;34m.\u001b[0m\u001b[0moptions\u001b[0m\u001b[0;34m)\u001b[0m\u001b[0;34m\u001b[0m\u001b[0m\n\u001b[0m\u001b[1;32m    924\u001b[0m         \u001b[0;32melse\u001b[0m\u001b[0;34m:\u001b[0m\u001b[0;34m\u001b[0m\u001b[0m\n\u001b[1;32m    925\u001b[0m             \u001b[0;32mif\u001b[0m \u001b[0mengine\u001b[0m \u001b[0;34m==\u001b[0m \u001b[0;34m'python'\u001b[0m\u001b[0;34m:\u001b[0m\u001b[0;34m\u001b[0m\u001b[0m\n",
      "\u001b[0;32m/usr/local/lib/python2.7/dist-packages/pandas/io/parsers.pyc\u001b[0m in \u001b[0;36m__init__\u001b[0;34m(self, src, **kwds)\u001b[0m\n\u001b[1;32m   1388\u001b[0m         \u001b[0mkwds\u001b[0m\u001b[0;34m[\u001b[0m\u001b[0;34m'allow_leading_cols'\u001b[0m\u001b[0;34m]\u001b[0m \u001b[0;34m=\u001b[0m \u001b[0mself\u001b[0m\u001b[0;34m.\u001b[0m\u001b[0mindex_col\u001b[0m \u001b[0;32mis\u001b[0m \u001b[0;32mnot\u001b[0m \u001b[0mFalse\u001b[0m\u001b[0;34m\u001b[0m\u001b[0m\n\u001b[1;32m   1389\u001b[0m \u001b[0;34m\u001b[0m\u001b[0m\n\u001b[0;32m-> 1390\u001b[0;31m         \u001b[0mself\u001b[0m\u001b[0;34m.\u001b[0m\u001b[0m_reader\u001b[0m \u001b[0;34m=\u001b[0m \u001b[0m_parser\u001b[0m\u001b[0;34m.\u001b[0m\u001b[0mTextReader\u001b[0m\u001b[0;34m(\u001b[0m\u001b[0msrc\u001b[0m\u001b[0;34m,\u001b[0m \u001b[0;34m**\u001b[0m\u001b[0mkwds\u001b[0m\u001b[0;34m)\u001b[0m\u001b[0;34m\u001b[0m\u001b[0m\n\u001b[0m\u001b[1;32m   1391\u001b[0m \u001b[0;34m\u001b[0m\u001b[0m\n\u001b[1;32m   1392\u001b[0m         \u001b[0;31m# XXX\u001b[0m\u001b[0;34m\u001b[0m\u001b[0;34m\u001b[0m\u001b[0m\n",
      "\u001b[0;32mpandas/parser.pyx\u001b[0m in \u001b[0;36mpandas.parser.TextReader.__cinit__ (pandas/parser.c:4184)\u001b[0;34m()\u001b[0m\n",
      "\u001b[0;32mpandas/parser.pyx\u001b[0m in \u001b[0;36mpandas.parser.TextReader._setup_parser_source (pandas/parser.c:8449)\u001b[0;34m()\u001b[0m\n",
      "\u001b[0;31mIOError\u001b[0m: File ../model_test/results/kl_convclss_d64/mnist/task9/kl_conv_vae_d64/mnist/batch_train/Jensen_Shannon.csv does not exist"
     ]
    }
   ],
   "source": [
    "root = '../model_test/results/kl_convclss_d64/mnist/task9/'\n",
    "dataset = 'mnist'\n",
    "types = ['kl']#['fid','kid','kl']\n",
    "div_type = 'Jensen_Shannon'\n",
    "ps = ['_conv_vae_d64/mnist/']#['_convclss_d64/mnist/','_vae_d64/mnist/']\n",
    "models = ['batch_train/','task9/']\n",
    "paths = []\n",
    "for t in types:    \n",
    "    for p in ps:\n",
    "        for m in models:\n",
    "            paths.append(root+t+p+m)\n",
    "means,stds = read_scores(paths,div_type=div_type)"
   ]
  },
  {
   "cell_type": "code",
   "execution_count": 47,
   "metadata": {},
   "outputs": [],
   "source": [
    "fs = ['+vae']#['+clf','+vae']\n",
    "#idx = [t+f for t in types for f in fs]\n",
    "if div_type is not None:\n",
    "    idx = [div_type+f for f in fs]\n",
    "else:\n",
    "    idx = [t+f for t in types for f in fs]\n",
    "all_scores_mean = pd.DataFrame(index=idx,columns=['WGAN_bt','WGAN-GP_bt','f-GAN-JS_bt','f-GAN-rvKL_bt','WGAN_ct','WGAN-GP_ct','f-GAN-JS_ct','f-GAN-rvKL_ct'])\n",
    "all_scores_std = pd.DataFrame(index=idx,columns=['WGAN_bt','WGAN-GP_bt','f-GAN-JS_bt','f-GAN-rvKL_bt','WGAN_ct','WGAN-GP_ct','f-GAN-JS_ct','f-GAN-rvKL_ct'])\n",
    "\n",
    "for i,t in enumerate(idx):\n",
    "        all_scores_mean.loc[t] = np.concatenate(means[i*2:(i+1)*2])\n",
    "        all_scores_std.loc[t] = np.concatenate(stds[i*2:(i+1)*2])"
   ]
  },
  {
   "cell_type": "code",
   "execution_count": 48,
   "metadata": {},
   "outputs": [
    {
     "data": {
      "text/html": [
       "<div>\n",
       "<table border=\"1\" class=\"dataframe\">\n",
       "  <thead>\n",
       "    <tr style=\"text-align: right;\">\n",
       "      <th></th>\n",
       "      <th>WGAN_bt</th>\n",
       "      <th>WGAN-GP_bt</th>\n",
       "      <th>f-GAN-JS_bt</th>\n",
       "      <th>f-GAN-rvKL_bt</th>\n",
       "      <th>WGAN_ct</th>\n",
       "      <th>WGAN-GP_ct</th>\n",
       "      <th>f-GAN-JS_ct</th>\n",
       "      <th>f-GAN-rvKL_ct</th>\n",
       "    </tr>\n",
       "  </thead>\n",
       "  <tbody>\n",
       "    <tr>\n",
       "      <th>fid+vae</th>\n",
       "      <td>0.00906328</td>\n",
       "      <td>0.0123431</td>\n",
       "      <td>0.0111562</td>\n",
       "      <td>0.0127033</td>\n",
       "      <td>0.0293447</td>\n",
       "      <td>0.0434089</td>\n",
       "      <td>0.0209492</td>\n",
       "      <td>0.0303925</td>\n",
       "    </tr>\n",
       "  </tbody>\n",
       "</table>\n",
       "</div>"
      ],
      "text/plain": [
       "            WGAN_bt WGAN-GP_bt f-GAN-JS_bt f-GAN-rvKL_bt    WGAN_ct  \\\n",
       "fid+vae  0.00906328  0.0123431   0.0111562     0.0127033  0.0293447   \n",
       "\n",
       "        WGAN-GP_ct f-GAN-JS_ct f-GAN-rvKL_ct  \n",
       "fid+vae  0.0434089   0.0209492     0.0303925  "
      ]
     },
     "execution_count": 48,
     "metadata": {},
     "output_type": "execute_result"
    }
   ],
   "source": [
    "all_scores_mean"
   ]
  },
  {
   "cell_type": "code",
   "execution_count": 49,
   "metadata": {},
   "outputs": [
    {
     "data": {
      "text/html": [
       "<div>\n",
       "<table border=\"1\" class=\"dataframe\">\n",
       "  <thead>\n",
       "    <tr style=\"text-align: right;\">\n",
       "      <th></th>\n",
       "      <th>WGAN_bt</th>\n",
       "      <th>WGAN-GP_bt</th>\n",
       "      <th>f-GAN-JS_bt</th>\n",
       "      <th>f-GAN-rvKL_bt</th>\n",
       "      <th>WGAN_ct</th>\n",
       "      <th>WGAN-GP_ct</th>\n",
       "      <th>f-GAN-JS_ct</th>\n",
       "      <th>f-GAN-rvKL_ct</th>\n",
       "    </tr>\n",
       "  </thead>\n",
       "  <tbody>\n",
       "    <tr>\n",
       "      <th>fid+vae</th>\n",
       "      <td>7.78796e-05</td>\n",
       "      <td>0.000102027</td>\n",
       "      <td>0.000134753</td>\n",
       "      <td>0.000113856</td>\n",
       "      <td>0.000114369</td>\n",
       "      <td>0.000240489</td>\n",
       "      <td>0.000184854</td>\n",
       "      <td>0.000250118</td>\n",
       "    </tr>\n",
       "  </tbody>\n",
       "</table>\n",
       "</div>"
      ],
      "text/plain": [
       "             WGAN_bt   WGAN-GP_bt  f-GAN-JS_bt f-GAN-rvKL_bt      WGAN_ct  \\\n",
       "fid+vae  7.78796e-05  0.000102027  0.000134753   0.000113856  0.000114369   \n",
       "\n",
       "          WGAN-GP_ct  f-GAN-JS_ct f-GAN-rvKL_ct  \n",
       "fid+vae  0.000240489  0.000184854   0.000250118  "
      ]
     },
     "execution_count": 49,
     "metadata": {},
     "output_type": "execute_result"
    }
   ],
   "source": [
    "all_scores_std"
   ]
  },
  {
   "cell_type": "code",
   "execution_count": 651,
   "metadata": {},
   "outputs": [],
   "source": [
    "tot_means = pd.read_csv('../dre/results/aggregates/'+dataset+'_single_all_scores_mean.csv',index_col=0)\n",
    "tot_means = tot_means.append(all_scores_mean)\n",
    "tot_stds = pd.read_csv('../dre/results/aggregates/'+dataset+'_single_all_scores_std.csv',index_col=0)\n",
    "tot_stds = tot_stds.append(all_scores_std)"
   ]
  },
  {
   "cell_type": "code",
   "execution_count": 652,
   "metadata": {},
   "outputs": [
    {
     "data": {
      "text/html": [
       "<div>\n",
       "<table border=\"1\" class=\"dataframe\">\n",
       "  <thead>\n",
       "    <tr style=\"text-align: right;\">\n",
       "      <th></th>\n",
       "      <th>WGAN_bt</th>\n",
       "      <th>WGAN-GP_bt</th>\n",
       "      <th>f-GAN-JS_bt</th>\n",
       "      <th>f-GAN-rvKL_bt</th>\n",
       "      <th>WGAN_ct</th>\n",
       "      <th>WGAN-GP_ct</th>\n",
       "      <th>f-GAN-JS_ct</th>\n",
       "      <th>f-GAN-rvKL_ct</th>\n",
       "    </tr>\n",
       "  </thead>\n",
       "  <tbody>\n",
       "    <tr>\n",
       "      <th>fid+clf</th>\n",
       "      <td>1.58555</td>\n",
       "      <td>5.33811</td>\n",
       "      <td>1.46908</td>\n",
       "      <td>1.67822</td>\n",
       "      <td>9.001</td>\n",
       "      <td>12.6238</td>\n",
       "      <td>1.20269</td>\n",
       "      <td>7.8995</td>\n",
       "    </tr>\n",
       "    <tr>\n",
       "      <th>fid+vae</th>\n",
       "      <td>0.00579913</td>\n",
       "      <td>0.0076312</td>\n",
       "      <td>0.00653233</td>\n",
       "      <td>0.00630527</td>\n",
       "      <td>0.0105802</td>\n",
       "      <td>0.0160538</td>\n",
       "      <td>0.0105962</td>\n",
       "      <td>0.0101496</td>\n",
       "    </tr>\n",
       "    <tr>\n",
       "      <th>kid+clf</th>\n",
       "      <td>0.0842215</td>\n",
       "      <td>0.294061</td>\n",
       "      <td>0.0793757</td>\n",
       "      <td>0.0906581</td>\n",
       "      <td>0.454021</td>\n",
       "      <td>0.635054</td>\n",
       "      <td>0.0649085</td>\n",
       "      <td>0.414042</td>\n",
       "    </tr>\n",
       "    <tr>\n",
       "      <th>kid+vae</th>\n",
       "      <td>3.97541e-05</td>\n",
       "      <td>0.000133882</td>\n",
       "      <td>7.83641e-05</td>\n",
       "      <td>6.3642e-05</td>\n",
       "      <td>0.000111814</td>\n",
       "      <td>0.000251575</td>\n",
       "      <td>0.000115736</td>\n",
       "      <td>0.000109155</td>\n",
       "    </tr>\n",
       "    <tr>\n",
       "      <th>kl+clf</th>\n",
       "      <td>0.284372</td>\n",
       "      <td>1.70969</td>\n",
       "      <td>0.708487</td>\n",
       "      <td>1.10318</td>\n",
       "      <td>2.85305</td>\n",
       "      <td>6.44557</td>\n",
       "      <td>1.51413</td>\n",
       "      <td>6.2687</td>\n",
       "    </tr>\n",
       "    <tr>\n",
       "      <th>kl+vae</th>\n",
       "      <td>0.0318552</td>\n",
       "      <td>0.0753537</td>\n",
       "      <td>0.0509404</td>\n",
       "      <td>0.0417821</td>\n",
       "      <td>0.321955</td>\n",
       "      <td>2.69245</td>\n",
       "      <td>0.0495816</td>\n",
       "      <td>1.94251</td>\n",
       "    </tr>\n",
       "    <tr>\n",
       "      <th>Jensen_Shannon+clf</th>\n",
       "      <td>0.857943</td>\n",
       "      <td>1.01865</td>\n",
       "      <td>0.950912</td>\n",
       "      <td>1.16672</td>\n",
       "      <td>1.01176</td>\n",
       "      <td>1.30599</td>\n",
       "      <td>0.844321</td>\n",
       "      <td>1.37121</td>\n",
       "    </tr>\n",
       "    <tr>\n",
       "      <th>Jensen_Shannon+vae</th>\n",
       "      <td>0.0343041</td>\n",
       "      <td>0.0549029</td>\n",
       "      <td>0.0696652</td>\n",
       "      <td>0.334725</td>\n",
       "      <td>0.298849</td>\n",
       "      <td>0.331567</td>\n",
       "      <td>0.00699074</td>\n",
       "      <td>1.10503</td>\n",
       "    </tr>\n",
       "    <tr>\n",
       "      <th>Pearson+clf</th>\n",
       "      <td>10.5469</td>\n",
       "      <td>19.8341</td>\n",
       "      <td>16.3372</td>\n",
       "      <td>68.0595</td>\n",
       "      <td>97.4962</td>\n",
       "      <td>348.988</td>\n",
       "      <td>148.641</td>\n",
       "      <td>986.576</td>\n",
       "    </tr>\n",
       "    <tr>\n",
       "      <th>Pearson+vae</th>\n",
       "      <td>0.151195</td>\n",
       "      <td>0.259398</td>\n",
       "      <td>0.331973</td>\n",
       "      <td>5.61796</td>\n",
       "      <td>8.81377</td>\n",
       "      <td>5.84946</td>\n",
       "      <td>0.0280013</td>\n",
       "      <td>294.712</td>\n",
       "    </tr>\n",
       "    <tr>\n",
       "      <th>Hellinger+clf</th>\n",
       "      <td>1.07587</td>\n",
       "      <td>1.31372</td>\n",
       "      <td>1.21722</td>\n",
       "      <td>1.54697</td>\n",
       "      <td>1.26054</td>\n",
       "      <td>1.76482</td>\n",
       "      <td>1.02535</td>\n",
       "      <td>1.91804</td>\n",
       "    </tr>\n",
       "    <tr>\n",
       "      <th>Hellinger+vae</th>\n",
       "      <td>0.0346286</td>\n",
       "      <td>0.0557056</td>\n",
       "      <td>0.0709021</td>\n",
       "      <td>0.360726</td>\n",
       "      <td>0.328028</td>\n",
       "      <td>0.358572</td>\n",
       "      <td>0.00700161</td>\n",
       "      <td>1.40885</td>\n",
       "    </tr>\n",
       "    <tr>\n",
       "      <th>rv_KL+clf</th>\n",
       "      <td>6.95736</td>\n",
       "      <td>13.8626</td>\n",
       "      <td>11.25</td>\n",
       "      <td>15.1928</td>\n",
       "      <td>4.0814</td>\n",
       "      <td>8.6345</td>\n",
       "      <td>2.60932</td>\n",
       "      <td>24.4023</td>\n",
       "    </tr>\n",
       "    <tr>\n",
       "      <th>rv_KL+vae</th>\n",
       "      <td>0.0699567</td>\n",
       "      <td>0.112821</td>\n",
       "      <td>0.144946</td>\n",
       "      <td>0.688167</td>\n",
       "      <td>0.586576</td>\n",
       "      <td>0.694813</td>\n",
       "      <td>0.0140907</td>\n",
       "      <td>4.16417</td>\n",
       "    </tr>\n",
       "  </tbody>\n",
       "</table>\n",
       "</div>"
      ],
      "text/plain": [
       "                        WGAN_bt   WGAN-GP_bt  f-GAN-JS_bt f-GAN-rvKL_bt  \\\n",
       "fid+clf                 1.58555      5.33811      1.46908       1.67822   \n",
       "fid+vae              0.00579913    0.0076312   0.00653233    0.00630527   \n",
       "kid+clf               0.0842215     0.294061    0.0793757     0.0906581   \n",
       "kid+vae             3.97541e-05  0.000133882  7.83641e-05    6.3642e-05   \n",
       "kl+clf                 0.284372      1.70969     0.708487       1.10318   \n",
       "kl+vae                0.0318552    0.0753537    0.0509404     0.0417821   \n",
       "Jensen_Shannon+clf     0.857943      1.01865     0.950912       1.16672   \n",
       "Jensen_Shannon+vae    0.0343041    0.0549029    0.0696652      0.334725   \n",
       "Pearson+clf             10.5469      19.8341      16.3372       68.0595   \n",
       "Pearson+vae            0.151195     0.259398     0.331973       5.61796   \n",
       "Hellinger+clf           1.07587      1.31372      1.21722       1.54697   \n",
       "Hellinger+vae         0.0346286    0.0557056    0.0709021      0.360726   \n",
       "rv_KL+clf               6.95736      13.8626        11.25       15.1928   \n",
       "rv_KL+vae             0.0699567     0.112821     0.144946      0.688167   \n",
       "\n",
       "                        WGAN_ct   WGAN-GP_ct  f-GAN-JS_ct f-GAN-rvKL_ct  \n",
       "fid+clf                   9.001      12.6238      1.20269        7.8995  \n",
       "fid+vae               0.0105802    0.0160538    0.0105962     0.0101496  \n",
       "kid+clf                0.454021     0.635054    0.0649085      0.414042  \n",
       "kid+vae             0.000111814  0.000251575  0.000115736   0.000109155  \n",
       "kl+clf                  2.85305      6.44557      1.51413        6.2687  \n",
       "kl+vae                 0.321955      2.69245    0.0495816       1.94251  \n",
       "Jensen_Shannon+clf      1.01176      1.30599     0.844321       1.37121  \n",
       "Jensen_Shannon+vae     0.298849     0.331567   0.00699074       1.10503  \n",
       "Pearson+clf             97.4962      348.988      148.641       986.576  \n",
       "Pearson+vae             8.81377      5.84946    0.0280013       294.712  \n",
       "Hellinger+clf           1.26054      1.76482      1.02535       1.91804  \n",
       "Hellinger+vae          0.328028     0.358572   0.00700161       1.40885  \n",
       "rv_KL+clf                4.0814       8.6345      2.60932       24.4023  \n",
       "rv_KL+vae              0.586576     0.694813    0.0140907       4.16417  "
      ]
     },
     "execution_count": 652,
     "metadata": {},
     "output_type": "execute_result"
    }
   ],
   "source": [
    "tot_means"
   ]
  },
  {
   "cell_type": "code",
   "execution_count": 653,
   "metadata": {},
   "outputs": [
    {
     "data": {
      "text/html": [
       "<div>\n",
       "<table border=\"1\" class=\"dataframe\">\n",
       "  <thead>\n",
       "    <tr style=\"text-align: right;\">\n",
       "      <th></th>\n",
       "      <th>WGAN_bt</th>\n",
       "      <th>WGAN-GP_bt</th>\n",
       "      <th>f-GAN-JS_bt</th>\n",
       "      <th>f-GAN-rvKL_bt</th>\n",
       "      <th>WGAN_ct</th>\n",
       "      <th>WGAN-GP_ct</th>\n",
       "      <th>f-GAN-JS_ct</th>\n",
       "      <th>f-GAN-rvKL_ct</th>\n",
       "    </tr>\n",
       "  </thead>\n",
       "  <tbody>\n",
       "    <tr>\n",
       "      <th>fid+clf</th>\n",
       "      <td>3.65083e-13</td>\n",
       "      <td>1.99135e-13</td>\n",
       "      <td>3.1883e-13</td>\n",
       "      <td>4.48271e-13</td>\n",
       "      <td>1.6932e-13</td>\n",
       "      <td>1.62379e-13</td>\n",
       "      <td>4.15152e-13</td>\n",
       "      <td>3.75393e-13</td>\n",
       "    </tr>\n",
       "    <tr>\n",
       "      <th>fid+vae</th>\n",
       "      <td>6.04352e-05</td>\n",
       "      <td>6.77554e-05</td>\n",
       "      <td>7.57528e-05</td>\n",
       "      <td>6.99975e-05</td>\n",
       "      <td>4.40943e-05</td>\n",
       "      <td>4.42566e-05</td>\n",
       "      <td>5.19557e-05</td>\n",
       "      <td>7.42866e-05</td>\n",
       "    </tr>\n",
       "    <tr>\n",
       "      <th>kid+clf</th>\n",
       "      <td>0.00576359</td>\n",
       "      <td>0.011527</td>\n",
       "      <td>0.00751714</td>\n",
       "      <td>0.0077053</td>\n",
       "      <td>0.0139045</td>\n",
       "      <td>0.0187046</td>\n",
       "      <td>0.00838029</td>\n",
       "      <td>0.0215761</td>\n",
       "    </tr>\n",
       "    <tr>\n",
       "      <th>kid+vae</th>\n",
       "      <td>5.94201e-06</td>\n",
       "      <td>8.27105e-06</td>\n",
       "      <td>4.95945e-06</td>\n",
       "      <td>4.98395e-06</td>\n",
       "      <td>5.19769e-06</td>\n",
       "      <td>1.05807e-05</td>\n",
       "      <td>7.5541e-06</td>\n",
       "      <td>7.41879e-06</td>\n",
       "    </tr>\n",
       "    <tr>\n",
       "      <th>kl+clf</th>\n",
       "      <td>0.00584538</td>\n",
       "      <td>0.0285205</td>\n",
       "      <td>0.154608</td>\n",
       "      <td>0.0259347</td>\n",
       "      <td>0.14662</td>\n",
       "      <td>0.408179</td>\n",
       "      <td>0.138978</td>\n",
       "      <td>0.185642</td>\n",
       "    </tr>\n",
       "    <tr>\n",
       "      <th>kl+vae</th>\n",
       "      <td>0.00163785</td>\n",
       "      <td>0.00294647</td>\n",
       "      <td>0.00259194</td>\n",
       "      <td>0.00145296</td>\n",
       "      <td>0.125005</td>\n",
       "      <td>0.284459</td>\n",
       "      <td>0.00225116</td>\n",
       "      <td>0.146572</td>\n",
       "    </tr>\n",
       "    <tr>\n",
       "      <th>Jensen_Shannon+clf</th>\n",
       "      <td>0.02145</td>\n",
       "      <td>0.0141622</td>\n",
       "      <td>0.0175879</td>\n",
       "      <td>0.0252197</td>\n",
       "      <td>0.0490398</td>\n",
       "      <td>0.00779191</td>\n",
       "      <td>0.0251876</td>\n",
       "      <td>0.00562925</td>\n",
       "    </tr>\n",
       "    <tr>\n",
       "      <th>Jensen_Shannon+vae</th>\n",
       "      <td>0.0116031</td>\n",
       "      <td>0.00454713</td>\n",
       "      <td>0.00861779</td>\n",
       "      <td>0.023534</td>\n",
       "      <td>0.0356177</td>\n",
       "      <td>0.0336855</td>\n",
       "      <td>0.000541532</td>\n",
       "      <td>0.160724</td>\n",
       "    </tr>\n",
       "    <tr>\n",
       "      <th>Pearson+clf</th>\n",
       "      <td>2.78126</td>\n",
       "      <td>5.06559</td>\n",
       "      <td>5.79012</td>\n",
       "      <td>38.4656</td>\n",
       "      <td>9.35634</td>\n",
       "      <td>55.592</td>\n",
       "      <td>45.0712</td>\n",
       "      <td>10.8511</td>\n",
       "    </tr>\n",
       "    <tr>\n",
       "      <th>Pearson+vae</th>\n",
       "      <td>0.0537024</td>\n",
       "      <td>0.0274227</td>\n",
       "      <td>0.0487266</td>\n",
       "      <td>1.02605</td>\n",
       "      <td>1.90827</td>\n",
       "      <td>0.873834</td>\n",
       "      <td>0.00224529</td>\n",
       "      <td>170.017</td>\n",
       "    </tr>\n",
       "    <tr>\n",
       "      <th>Hellinger+clf</th>\n",
       "      <td>0.0310226</td>\n",
       "      <td>0.0218218</td>\n",
       "      <td>0.0264694</td>\n",
       "      <td>0.0451695</td>\n",
       "      <td>0.0743049</td>\n",
       "      <td>0.0154179</td>\n",
       "      <td>0.0392943</td>\n",
       "      <td>0.0141958</td>\n",
       "    </tr>\n",
       "    <tr>\n",
       "      <th>Hellinger+vae</th>\n",
       "      <td>0.0117639</td>\n",
       "      <td>0.00467901</td>\n",
       "      <td>0.00895097</td>\n",
       "      <td>0.0265312</td>\n",
       "      <td>0.0375064</td>\n",
       "      <td>0.0370693</td>\n",
       "      <td>0.000543074</td>\n",
       "      <td>0.251189</td>\n",
       "    </tr>\n",
       "    <tr>\n",
       "      <th>rv_KL+clf</th>\n",
       "      <td>0.402582</td>\n",
       "      <td>0.355177</td>\n",
       "      <td>0.372011</td>\n",
       "      <td>4.37755</td>\n",
       "      <td>0.549471</td>\n",
       "      <td>0.347102</td>\n",
       "      <td>0.102287</td>\n",
       "      <td>17.0904</td>\n",
       "    </tr>\n",
       "    <tr>\n",
       "      <th>rv_KL+vae</th>\n",
       "      <td>0.0238565</td>\n",
       "      <td>0.00941237</td>\n",
       "      <td>0.0191064</td>\n",
       "      <td>0.0528951</td>\n",
       "      <td>0.0876134</td>\n",
       "      <td>0.0845336</td>\n",
       "      <td>0.00108736</td>\n",
       "      <td>1.70912</td>\n",
       "    </tr>\n",
       "  </tbody>\n",
       "</table>\n",
       "</div>"
      ],
      "text/plain": [
       "                        WGAN_bt   WGAN-GP_bt  f-GAN-JS_bt f-GAN-rvKL_bt  \\\n",
       "fid+clf             3.65083e-13  1.99135e-13   3.1883e-13   4.48271e-13   \n",
       "fid+vae             6.04352e-05  6.77554e-05  7.57528e-05   6.99975e-05   \n",
       "kid+clf              0.00576359     0.011527   0.00751714     0.0077053   \n",
       "kid+vae             5.94201e-06  8.27105e-06  4.95945e-06   4.98395e-06   \n",
       "kl+clf               0.00584538    0.0285205     0.154608     0.0259347   \n",
       "kl+vae               0.00163785   0.00294647   0.00259194    0.00145296   \n",
       "Jensen_Shannon+clf      0.02145    0.0141622    0.0175879     0.0252197   \n",
       "Jensen_Shannon+vae    0.0116031   0.00454713   0.00861779      0.023534   \n",
       "Pearson+clf             2.78126      5.06559      5.79012       38.4656   \n",
       "Pearson+vae           0.0537024    0.0274227    0.0487266       1.02605   \n",
       "Hellinger+clf         0.0310226    0.0218218    0.0264694     0.0451695   \n",
       "Hellinger+vae         0.0117639   0.00467901   0.00895097     0.0265312   \n",
       "rv_KL+clf              0.402582     0.355177     0.372011       4.37755   \n",
       "rv_KL+vae             0.0238565   0.00941237    0.0191064     0.0528951   \n",
       "\n",
       "                        WGAN_ct   WGAN-GP_ct  f-GAN-JS_ct f-GAN-rvKL_ct  \n",
       "fid+clf              1.6932e-13  1.62379e-13  4.15152e-13   3.75393e-13  \n",
       "fid+vae             4.40943e-05  4.42566e-05  5.19557e-05   7.42866e-05  \n",
       "kid+clf               0.0139045    0.0187046   0.00838029     0.0215761  \n",
       "kid+vae             5.19769e-06  1.05807e-05   7.5541e-06   7.41879e-06  \n",
       "kl+clf                  0.14662     0.408179     0.138978      0.185642  \n",
       "kl+vae                 0.125005     0.284459   0.00225116      0.146572  \n",
       "Jensen_Shannon+clf    0.0490398   0.00779191    0.0251876    0.00562925  \n",
       "Jensen_Shannon+vae    0.0356177    0.0336855  0.000541532      0.160724  \n",
       "Pearson+clf             9.35634       55.592      45.0712       10.8511  \n",
       "Pearson+vae             1.90827     0.873834   0.00224529       170.017  \n",
       "Hellinger+clf         0.0743049    0.0154179    0.0392943     0.0141958  \n",
       "Hellinger+vae         0.0375064    0.0370693  0.000543074      0.251189  \n",
       "rv_KL+clf              0.549471     0.347102     0.102287       17.0904  \n",
       "rv_KL+vae             0.0876134    0.0845336   0.00108736       1.70912  "
      ]
     },
     "execution_count": 653,
     "metadata": {},
     "output_type": "execute_result"
    }
   ],
   "source": [
    "tot_stds"
   ]
  },
  {
   "cell_type": "code",
   "execution_count": 654,
   "metadata": {},
   "outputs": [],
   "source": [
    "tot_means.to_csv('../dre/results/aggregates/'+dataset+'_single_all_scores_mean.csv')\n",
    "tot_stds.to_csv('../dre/results/aggregates/'+dataset+'_single_all_scores_std.csv')"
   ]
  },
  {
   "cell_type": "code",
   "execution_count": null,
   "metadata": {},
   "outputs": [],
   "source": []
  },
  {
   "cell_type": "code",
   "execution_count": null,
   "metadata": {},
   "outputs": [],
   "source": []
  },
  {
   "cell_type": "code",
   "execution_count": 589,
   "metadata": {},
   "outputs": [],
   "source": [
    "#all_scores_mean.to_csv('../dre/results/aggregates/'+dataset+'_single_all_scores_mean.csv')\n",
    "#all_scores_std.to_csv('../dre/results/aggregates/'+dataset+'_single_all_scores_std.csv')"
   ]
  },
  {
   "cell_type": "code",
   "execution_count": null,
   "metadata": {},
   "outputs": [],
   "source": []
  },
  {
   "cell_type": "code",
   "execution_count": 403,
   "metadata": {},
   "outputs": [
    {
     "data": {
      "text/plain": [
       "([<matplotlib.axis.XTick at 0x7f281ea48750>,\n",
       "  <matplotlib.axis.XTick at 0x7f281fef1610>,\n",
       "  <matplotlib.axis.XTick at 0x7f281e9c8d50>,\n",
       "  <matplotlib.axis.XTick at 0x7f281e9d3510>],\n",
       " <a list of 4 Text xticklabel objects>)"
      ]
     },
     "execution_count": 403,
     "metadata": {},
     "output_type": "execute_result"
    },
    {
     "data": {
      "image/png": "[encoded data removed]",
      "text/plain": [
       "<matplotlib.figure.Figure at 0x7f281eb31190>"
      ]
     },
     "metadata": {},
     "output_type": "display_data"
    }
   ],
   "source": [
    "fmts=['rs','bs','rd','bd']\n",
    "for i in range(len(means)):\n",
    "    plt.errorbar(x_ax,means[i],yerr=stds[i],fmt=fmts[i])\n",
    "plt.xticks(x_ax,['WGAN','WGAN-GP','f-GAN-JS','f-GAN-rvKL'])"
   ]
  },
  {
   "cell_type": "code",
   "execution_count": 404,
   "metadata": {},
   "outputs": [
    {
     "data": {
      "text/plain": [
       "[array([ 1.58555111,  5.33810804,  1.46907621,  1.6782181 ]),\n",
       " array([ 0.00579913,  0.0076312 ,  0.00653233,  0.00630527]),\n",
       " array([  9.00100491,  12.62381821,   1.2026872 ,   7.89949657]),\n",
       " array([ 0.01058021,  0.01605377,  0.01059618,  0.01014955])]"
      ]
     },
     "execution_count": 404,
     "metadata": {},
     "output_type": "execute_result"
    }
   ],
   "source": [
    "means"
   ]
  },
  {
   "cell_type": "code",
   "execution_count": 3,
   "metadata": {},
   "outputs": [],
   "source": [
    "import gzip\n",
    "from tensorflow.python.platform import gfile"
   ]
  },
  {
   "cell_type": "code",
   "execution_count": 86,
   "metadata": {},
   "outputs": [],
   "source": [
    "import io\n",
    "import struct\n",
    "def extract_data(fpath,shape,dtype=np.float32):\n",
    "    \"\"\"Extract the images into a 4D uint8 numpy array [index, y, x, depth].\n",
    "    Args:\n",
    "        f: A file object that can be passed into a gzip reader.\n",
    "    Returns:\n",
    "        data: A numpy array [index, y, x, depth].\n",
    "    Raises:\n",
    "        ValueError: If the bytestream does not start with 2051.\n",
    "    \"\"\"\n",
    "    with open(fpath, 'rb') as f:\n",
    "        with gzip.GzipFile(fileobj=f) as bytestream:\n",
    "            buf = bytestream.read()\n",
    "            data = np.frombuffer(buf, dtype=dtype)\n",
    "            data = data.reshape([-1]+shape)\n",
    "        return data"
   ]
  },
  {
   "cell_type": "code",
   "execution_count": 43,
   "metadata": {},
   "outputs": [],
   "source": [
    "def save_samples(path,samples,file_name=None):\n",
    "\n",
    "    if not os.path.exists(path):\n",
    "        os.makedirs(path)\n",
    "    if path[-1] != '/':\n",
    "        path+='/'\n",
    "\n",
    "    if file_name is None:\n",
    "        file_name = ['samples','labels']\n",
    "\n",
    "    if not isinstance(samples,list):\n",
    "        samples = [samples]\n",
    "\n",
    "    for s,fname in zip(samples,file_name): \n",
    "        #print(s.shape)\n",
    "        with gzip.open(path+fname+'.gz', 'wb') as f:\n",
    "            f.write(s)"
   ]
  },
  {
   "cell_type": "code",
   "execution_count": null,
   "metadata": {},
   "outputs": [],
   "source": []
  },
  {
   "cell_type": "code",
   "execution_count": 16,
   "metadata": {},
   "outputs": [],
   "source": [
    "def read_scores(paths,div_type=None):\n",
    "    scores=[]\n",
    "    for p in paths:\n",
    "        if div_type is None or div_type=='kl':\n",
    "            s = np.loadtxt(os.path.join(p,'score.csv'),delimiter=',')\n",
    "        else:\n",
    "            s = np.loadtxt(os.path.join(p,div_type+'.csv'),delimiter=',')\n",
    "        \n",
    "        scores.append(s)\n",
    "    return scores"
   ]
  },
  {
   "cell_type": "code",
   "execution_count": 44,
   "metadata": {},
   "outputs": [],
   "source": [
    "compare_score_means = []\n",
    "compare_score_stds = []"
   ]
  },
  {
   "cell_type": "code",
   "execution_count": null,
   "metadata": {},
   "outputs": [],
   "source": []
  },
  {
   "cell_type": "code",
   "execution_count": 14,
   "metadata": {},
   "outputs": [
    {
     "name": "stdout",
     "output_type": "stream",
     "text": [
      "kl_test_mnist_noise_singleThu-Aug-15-220030-2019\n",
      "kl_test_mnist_noise_singleThu-Aug-15-220522-2019\n",
      "kl_test_mnist_noise_singleThu-Aug-15-221954-2019\n",
      "kl_test_mnist_noise_singleThu-Aug-15-213725-2019\n",
      "kl_test_mnist_noise_singleThu-Aug-15-214613-2019\n",
      "kl_test_mnist_noise_singleThu-Aug-15-222258-2019\n",
      "kl_test_mnist_noise_singleThu-Aug-15-223741-2019\n",
      "kl_test_mnist_noise_singleThu-Aug-15-215050-2019\n",
      "kl_test_mnist_noise_singleThu-Aug-15-221303-2019\n",
      "kl_test_mnist_noise_singleThu-Aug-15-215512-2019\n",
      "kl_test_mnist_noise_singleThu-Aug-15-231609-2019\n",
      "kl_test_mnist_noise_singleThu-Aug-15-232013-2019\n",
      "kl_test_mnist_noise_singleThu-Aug-15-231229-2019\n",
      "kl_test_mnist_noise_singleThu-Aug-15-232217-2019\n",
      "kl_test_mnist_noise_singleThu-Aug-15-231800-2019\n",
      "kl_test_mnist_noise_singleThu-Aug-15-231408-2019\n",
      "kl_test_mnist_noise_singleThu-Aug-15-223905-2019\n",
      "kl_test_mnist_noise_singleThu-Aug-15-222822-2019\n",
      "kl_test_mnist_noise_singleThu-Aug-15-232644-2019\n",
      "kl_test_mnist_noise_singleThu-Aug-15-232414-2019\n"
     ]
    }
   ],
   "source": [
    "prf = './results/kl_d784/mnist/batch_train/kl_test_mnist_noise/'#'../model_test/results/kl_d2048/ffhq/batch_train/'\n",
    "stype='kl'\n",
    "#dim = 64\n",
    "#models = ['stylegan','true']\n",
    "#dataset = 'ffhq'\n",
    "paths = ['f50_nd1_5seeds/','f5_nd40_5seeds/']\n",
    "#paths = [stype+'_test_'+dataset+'_'+m+'_d'+str(dim)+'_5seeds/' for m in models]\n",
    "#paths = ['fid_test_mnist_WGAN_d64_5seeds','fid_test_mnist_WGANGP_d64_5seeds','fid_test_mnist_JS_d64_5seeds','fid_test_mnist_rvKL_d64_5seeds']#['fid_wgan_d1024','fid_wgangp_d1024','fid_JS_d1024','fid_rvKL_d1024']\n",
    "#paths = ['kid_test_mnist_WGAN_d512_5seeds','kid_test_mnist_WGANGP_d512_5seeds','kid_test_mnist_JS_d512_5seeds','kid_test_mnist_rvKL_d512_5seeds']\n",
    "paths = [prf+p for p in paths]\n",
    "data = aggregate_paths(paths,ftype=stype)"
   ]
  },
  {
   "cell_type": "code",
   "execution_count": 56,
   "metadata": {},
   "outputs": [],
   "source": [
    "score_means, score_stds = [], []\n",
    "for d in data:\n",
    "    score_mean = np.mean(d)\n",
    "    score_std = np.std(d)\n",
    "    score_means.append(score_mean)\n",
    "    score_stds.append(score_std)"
   ]
  },
  {
   "cell_type": "code",
   "execution_count": 57,
   "metadata": {},
   "outputs": [
    {
     "data": {
      "text/plain": [
       "([0.020015331171453, 0.021145321428775787],\n",
       " [0.002155112987873048, 0.0018154873804916598])"
      ]
     },
     "execution_count": 57,
     "metadata": {},
     "output_type": "execute_result"
    }
   ],
   "source": [
    "score_means,score_stds"
   ]
  },
  {
   "cell_type": "code",
   "execution_count": 58,
   "metadata": {},
   "outputs": [],
   "source": [
    "\n",
    "compare_score_means.append(score_means)\n",
    "compare_score_stds.append(score_stds)"
   ]
  },
  {
   "cell_type": "code",
   "execution_count": 59,
   "metadata": {},
   "outputs": [
    {
     "data": {
      "text/plain": [
       "([[0.2006077523635895, 0.16229250516036017],\n",
       "  [0.11915915218418405, 0.013726855863961874],\n",
       "  [0.020015331171453, 0.021145321428775787]],\n",
       " [[1.5294999748146515e-13, 1.1138989729374156e-13],\n",
       "  [0.037725373902018085, 0.025279463666787794],\n",
       "  [0.002155112987873048, 0.0018154873804916598]])"
      ]
     },
     "execution_count": 59,
     "metadata": {},
     "output_type": "execute_result"
    }
   ],
   "source": [
    "compare_score_means,compare_score_stds"
   ]
  },
  {
   "cell_type": "code",
   "execution_count": 60,
   "metadata": {},
   "outputs": [],
   "source": [
    "compare_score_means = np.vstack(compare_score_means)\n",
    "compare_score_stds = np.vstack(compare_score_stds)"
   ]
  },
  {
   "cell_type": "code",
   "execution_count": 20,
   "metadata": {},
   "outputs": [
    {
     "ename": "NameError",
     "evalue": "name 'compare_score_means' is not defined",
     "output_type": "error",
     "traceback": [
      "\u001b[0;31m---------------------------------------------------------------------------\u001b[0m",
      "\u001b[0;31mNameError\u001b[0m                                 Traceback (most recent call last)",
      "\u001b[0;32m<ipython-input-20-f5719372643f>\u001b[0m in \u001b[0;36m<module>\u001b[0;34m\u001b[0m\n\u001b[1;32m      1\u001b[0m \u001b[0mwidth\u001b[0m \u001b[0;34m=\u001b[0m \u001b[0;36m0.3\u001b[0m\u001b[0;34m\u001b[0m\u001b[0;34m\u001b[0m\u001b[0m\n\u001b[0;32m----> 2\u001b[0;31m \u001b[0mx_ax\u001b[0m \u001b[0;34m=\u001b[0m \u001b[0mnp\u001b[0m\u001b[0;34m.\u001b[0m\u001b[0marange\u001b[0m\u001b[0;34m(\u001b[0m\u001b[0mlen\u001b[0m\u001b[0;34m(\u001b[0m\u001b[0mcompare_score_means\u001b[0m\u001b[0;34m)\u001b[0m\u001b[0;34m)\u001b[0m\u001b[0;34m\u001b[0m\u001b[0;34m\u001b[0m\u001b[0m\n\u001b[0m\u001b[1;32m      3\u001b[0m \u001b[0mplt\u001b[0m\u001b[0;34m.\u001b[0m\u001b[0mbar\u001b[0m\u001b[0;34m(\u001b[0m\u001b[0mx_ax\u001b[0m\u001b[0;34m,\u001b[0m\u001b[0mcompare_score_means\u001b[0m\u001b[0;34m[\u001b[0m\u001b[0;34m:\u001b[0m\u001b[0;34m,\u001b[0m\u001b[0;36m0\u001b[0m\u001b[0;34m]\u001b[0m\u001b[0;34m,\u001b[0m\u001b[0myerr\u001b[0m\u001b[0;34m=\u001b[0m\u001b[0mcompare_score_stds\u001b[0m\u001b[0;34m[\u001b[0m\u001b[0;34m:\u001b[0m\u001b[0;34m,\u001b[0m\u001b[0;36m0\u001b[0m\u001b[0;34m]\u001b[0m\u001b[0;34m,\u001b[0m\u001b[0mwidth\u001b[0m\u001b[0;34m=\u001b[0m\u001b[0mwidth\u001b[0m\u001b[0;34m)\u001b[0m\u001b[0;34m\u001b[0m\u001b[0;34m\u001b[0m\u001b[0m\n\u001b[1;32m      4\u001b[0m \u001b[0mplt\u001b[0m\u001b[0;34m.\u001b[0m\u001b[0mbar\u001b[0m\u001b[0;34m(\u001b[0m\u001b[0mx_ax\u001b[0m\u001b[0;34m+\u001b[0m\u001b[0mwidth\u001b[0m\u001b[0;34m,\u001b[0m\u001b[0mcompare_score_means\u001b[0m\u001b[0;34m[\u001b[0m\u001b[0;34m:\u001b[0m\u001b[0;34m,\u001b[0m\u001b[0;36m1\u001b[0m\u001b[0;34m]\u001b[0m\u001b[0;34m,\u001b[0m\u001b[0myerr\u001b[0m\u001b[0;34m=\u001b[0m\u001b[0mcompare_score_stds\u001b[0m\u001b[0;34m[\u001b[0m\u001b[0;34m:\u001b[0m\u001b[0;34m,\u001b[0m\u001b[0;36m1\u001b[0m\u001b[0;34m]\u001b[0m\u001b[0;34m,\u001b[0m\u001b[0mwidth\u001b[0m\u001b[0;34m=\u001b[0m\u001b[0mwidth\u001b[0m\u001b[0;34m)\u001b[0m\u001b[0;34m\u001b[0m\u001b[0;34m\u001b[0m\u001b[0m\n\u001b[1;32m      5\u001b[0m \u001b[0;31m#plt.xticks(x_ax + width/2, ('FID', 'KID', 'KL'))\u001b[0m\u001b[0;34m\u001b[0m\u001b[0;34m\u001b[0m\u001b[0;34m\u001b[0m\u001b[0m\n",
      "\u001b[0;31mNameError\u001b[0m: name 'compare_score_means' is not defined"
     ]
    }
   ],
   "source": [
    "width = 0.3\n",
    "x_ax = np.arange(len(compare_score_means))\n",
    "plt.bar(x_ax,compare_score_means[:,0],yerr=compare_score_stds[:,0],width=width)\n",
    "plt.bar(x_ax+width,compare_score_means[:,1],yerr=compare_score_stds[:,1],width=width)\n",
    "#plt.xticks(x_ax + width/2, ('FID', 'KID', 'KL'))\n",
    "plt.legend(['dense noise','sparse noise'])\n",
    "#plt.savefig('./results/aggregates/compare_score_noise_mnist.pdf')"
   ]
  },
  {
   "cell_type": "code",
   "execution_count": null,
   "metadata": {},
   "outputs": [],
   "source": []
  },
  {
   "cell_type": "code",
   "execution_count": null,
   "metadata": {},
   "outputs": [],
   "source": []
  },
  {
   "cell_type": "code",
   "execution_count": 17,
   "metadata": {
    "scrolled": true
   },
   "outputs": [
    {
     "name": "stdout",
     "output_type": "stream",
     "text": [
      "kl_test_mnist_noise_singleThu-Aug-15-220030-2019\n",
      "kl_test_mnist_noise_singleThu-Aug-15-220522-2019\n",
      "kl_test_mnist_noise_singleThu-Aug-15-221954-2019\n",
      "kl_test_mnist_noise_singleThu-Aug-15-213725-2019\n",
      "kl_test_mnist_noise_singleThu-Aug-15-214613-2019\n",
      "kl_test_mnist_noise_singleThu-Aug-15-222258-2019\n",
      "kl_test_mnist_noise_singleThu-Aug-15-223741-2019\n",
      "kl_test_mnist_noise_singleThu-Aug-15-215050-2019\n",
      "kl_test_mnist_noise_singleThu-Aug-15-221303-2019\n",
      "kl_test_mnist_noise_singleThu-Aug-15-215512-2019\n",
      "kl_test_mnist_noise_singleThu-Aug-15-231609-2019\n",
      "kl_test_mnist_noise_singleThu-Aug-15-232013-2019\n",
      "kl_test_mnist_noise_singleThu-Aug-15-231229-2019\n",
      "kl_test_mnist_noise_singleThu-Aug-15-232217-2019\n",
      "kl_test_mnist_noise_singleThu-Aug-15-231800-2019\n",
      "kl_test_mnist_noise_singleThu-Aug-15-231408-2019\n",
      "kl_test_mnist_noise_singleThu-Aug-15-223905-2019\n",
      "kl_test_mnist_noise_singleThu-Aug-15-222822-2019\n",
      "kl_test_mnist_noise_singleThu-Aug-15-232644-2019\n",
      "kl_test_mnist_noise_singleThu-Aug-15-232414-2019\n",
      "kl_test_mnist_noise_singleThu-Aug-15-220030-2019\n",
      "kl_test_mnist_noise_singleThu-Aug-15-220522-2019\n",
      "kl_test_mnist_noise_singleThu-Aug-15-221954-2019\n",
      "kl_test_mnist_noise_singleThu-Aug-15-213725-2019\n",
      "kl_test_mnist_noise_singleThu-Aug-15-214613-2019\n",
      "kl_test_mnist_noise_singleThu-Aug-15-222258-2019\n",
      "kl_test_mnist_noise_singleThu-Aug-15-223741-2019\n",
      "kl_test_mnist_noise_singleThu-Aug-15-215050-2019\n",
      "kl_test_mnist_noise_singleThu-Aug-15-221303-2019\n",
      "kl_test_mnist_noise_singleThu-Aug-15-215512-2019\n",
      "kl_test_mnist_noise_singleThu-Aug-15-231609-2019\n",
      "kl_test_mnist_noise_singleThu-Aug-15-232013-2019\n",
      "kl_test_mnist_noise_singleThu-Aug-15-231229-2019\n",
      "kl_test_mnist_noise_singleThu-Aug-15-232217-2019\n",
      "kl_test_mnist_noise_singleThu-Aug-15-231800-2019\n",
      "kl_test_mnist_noise_singleThu-Aug-15-231408-2019\n",
      "kl_test_mnist_noise_singleThu-Aug-15-223905-2019\n",
      "kl_test_mnist_noise_singleThu-Aug-15-222822-2019\n",
      "kl_test_mnist_noise_singleThu-Aug-15-232644-2019\n",
      "kl_test_mnist_noise_singleThu-Aug-15-232414-2019\n",
      "kl_test_mnist_noise_singleThu-Aug-15-220030-2019\n",
      "kl_test_mnist_noise_singleThu-Aug-15-220522-2019\n",
      "kl_test_mnist_noise_singleThu-Aug-15-221954-2019\n",
      "kl_test_mnist_noise_singleThu-Aug-15-213725-2019\n",
      "kl_test_mnist_noise_singleThu-Aug-15-214613-2019\n",
      "kl_test_mnist_noise_singleThu-Aug-15-222258-2019\n",
      "kl_test_mnist_noise_singleThu-Aug-15-223741-2019\n",
      "kl_test_mnist_noise_singleThu-Aug-15-215050-2019\n",
      "kl_test_mnist_noise_singleThu-Aug-15-221303-2019\n",
      "kl_test_mnist_noise_singleThu-Aug-15-215512-2019\n",
      "kl_test_mnist_noise_singleThu-Aug-15-231609-2019\n",
      "kl_test_mnist_noise_singleThu-Aug-15-232013-2019\n",
      "kl_test_mnist_noise_singleThu-Aug-15-231229-2019\n",
      "kl_test_mnist_noise_singleThu-Aug-15-232217-2019\n",
      "kl_test_mnist_noise_singleThu-Aug-15-231800-2019\n",
      "kl_test_mnist_noise_singleThu-Aug-15-231408-2019\n",
      "kl_test_mnist_noise_singleThu-Aug-15-223905-2019\n",
      "kl_test_mnist_noise_singleThu-Aug-15-222822-2019\n",
      "kl_test_mnist_noise_singleThu-Aug-15-232644-2019\n",
      "kl_test_mnist_noise_singleThu-Aug-15-232414-2019\n",
      "kl_test_mnist_noise_singleThu-Aug-15-220030-2019\n",
      "kl_test_mnist_noise_singleThu-Aug-15-220522-2019\n",
      "kl_test_mnist_noise_singleThu-Aug-15-221954-2019\n",
      "kl_test_mnist_noise_singleThu-Aug-15-213725-2019\n",
      "kl_test_mnist_noise_singleThu-Aug-15-214613-2019\n",
      "kl_test_mnist_noise_singleThu-Aug-15-222258-2019\n",
      "kl_test_mnist_noise_singleThu-Aug-15-223741-2019\n",
      "kl_test_mnist_noise_singleThu-Aug-15-215050-2019\n",
      "kl_test_mnist_noise_singleThu-Aug-15-221303-2019\n",
      "kl_test_mnist_noise_singleThu-Aug-15-215512-2019\n",
      "kl_test_mnist_noise_singleThu-Aug-15-231609-2019\n",
      "kl_test_mnist_noise_singleThu-Aug-15-232013-2019\n",
      "kl_test_mnist_noise_singleThu-Aug-15-231229-2019\n",
      "kl_test_mnist_noise_singleThu-Aug-15-232217-2019\n",
      "kl_test_mnist_noise_singleThu-Aug-15-231800-2019\n",
      "kl_test_mnist_noise_singleThu-Aug-15-231408-2019\n",
      "kl_test_mnist_noise_singleThu-Aug-15-223905-2019\n",
      "kl_test_mnist_noise_singleThu-Aug-15-222822-2019\n",
      "kl_test_mnist_noise_singleThu-Aug-15-232644-2019\n",
      "kl_test_mnist_noise_singleThu-Aug-15-232414-2019\n"
     ]
    }
   ],
   "source": [
    "divs = ['KL','rv_KL','Jensen_Shannon','Hellinger']\n",
    "scores = {}\n",
    "for div_type in divs:\n",
    "    for pt in paths:\n",
    "        sd = os.listdir(pt)\n",
    "        spth = []\n",
    "        for s in sd:\n",
    "            print(s)\n",
    "            s = os.path.join(pt,s)\n",
    "            spth.append(s)\n",
    "            r = np.loadtxt(s+'/sample_ratios.csv',delimiter=',')\n",
    "            div = calc_divgenerce(div_type,[r])\n",
    "            np.savetxt(X=div,fname=os.path.join(s,div_type+'.csv'))\n",
    "        sc = scores.get(div_type,[])\n",
    "        sc.append(read_scores(spth,div_type))\n",
    "        scores[div_type] = sc"
   ]
  },
  {
   "cell_type": "code",
   "execution_count": 18,
   "metadata": {},
   "outputs": [
    {
     "name": "stdout",
     "output_type": "stream",
     "text": [
      "KL\n",
      "[(0.02001533091301691, 0.002155113348087199), (0.02114532152816192, 0.0018154870037613347)]\n",
      "rv_KL\n",
      "[(0.021402665174623782, 0.0025565640156501833), (0.03395048689928244, 0.004717811861262783)]\n",
      "Jensen_Shannon\n",
      "[(0.010245300027900469, 0.0011441446203955678), (0.01241822047310422, 0.0012276039377378523)]\n",
      "Hellinger\n",
      "[(0.010299030802326727, 0.0011605166784390936), (0.013024609573481524, 0.0013985062387767034)]\n"
     ]
    }
   ],
   "source": [
    "stats = {}\n",
    "for div,sc in six.iteritems(scores):\n",
    "    print(div)\n",
    "    stats[div] = {}\n",
    "    stats[div]['mean'] = [np.mean(s) for s in sc]\n",
    "    stats[div]['std'] = [np.std(s) for s in sc]\n",
    "    print([(np.mean(s),np.std(s)) for s in sc])"
   ]
  },
  {
   "cell_type": "code",
   "execution_count": 6,
   "metadata": {},
   "outputs": [],
   "source": [
    "fid_p = './results/fid_d784/mnist/batch_train/fid_test_mnist_noise/'\n",
    "kid_p = './results/kid_d784/mnist/batch_train/kid_test_mnist_noise/'\n",
    "kl_p = './results/kl_d784/mnist/batch_train/kl_test_mnist_noise/'\n",
    "\n",
    "sub_f = ['f50_nd1_5seeds/','f5_nd40_5seeds/']\n",
    "lgds = ['dense noise','sparse noise']\n",
    "\n",
    "score_path = {'fid':[fid_p + f for f in sub_f],'kid':[kid_p+f for f in sub_f], \\\n",
    "              'kl':[kl_p+f for f in sub_f], 'rv_KL':[kl_p+f for f in sub_f]}"
   ]
  },
  {
   "cell_type": "code",
   "execution_count": 10,
   "metadata": {
    "scrolled": true
   },
   "outputs": [
    {
     "name": "stdout",
     "output_type": "stream",
     "text": [
      "fid_test_mnist_noise_singleFri-Aug-16-114609-2019\n",
      "fid_test_mnist_noise_singleFri-Aug-16-113729-2019\n",
      "fid_test_mnist_noise_singleFri-Aug-16-093620-2019\n",
      "fid_test_mnist_noise_singleFri-Aug-16-120323-2019\n",
      "fid_test_mnist_noise_singleFri-Aug-16-115113-2019\n",
      "fid_test_mnist_noise_singleFri-Aug-16-114303-2019\n",
      "fid_test_mnist_noise_singleFri-Aug-16-113043-2019\n",
      "fid_test_mnist_noise_singleFri-Aug-16-112806-2019\n",
      "fid_test_mnist_noise_singleFri-Aug-16-113438-2019\n",
      "fid_test_mnist_noise_singleFri-Aug-16-112519-2019\n",
      "fid_test_mnist_noise_singleFri-Aug-16-112741-2019\n",
      "fid_test_mnist_noise_singleFri-Aug-16-114236-2019\n",
      "fid_test_mnist_noise_singleFri-Aug-16-093557-2019\n",
      "fid_test_mnist_noise_singleFri-Aug-16-113413-2019\n",
      "fid_test_mnist_noise_singleFri-Aug-16-113017-2019\n",
      "fid_test_mnist_noise_singleFri-Aug-16-114544-2019\n",
      "fid_test_mnist_noise_singleFri-Aug-16-112454-2019\n",
      "fid_test_mnist_noise_singleFri-Aug-16-120258-2019\n",
      "fid_test_mnist_noise_singleFri-Aug-16-115047-2019\n",
      "fid_test_mnist_noise_singleFri-Aug-16-113705-2019\n",
      "kid_test_mnist_noise_singleFri-Aug-16-112658-2019\n",
      "kid_test_mnist_noise_singleFri-Aug-16-114151-2019\n",
      "kid_test_mnist_noise_singleFri-Aug-16-115002-2019\n",
      "kid_test_mnist_noise_singleFri-Aug-16-120216-2019\n",
      "kid_test_mnist_noise_singleFri-Aug-16-093514-2019\n",
      "kid_test_mnist_noise_singleFri-Aug-16-113616-2019\n",
      "kid_test_mnist_noise_singleFri-Aug-16-113330-2019\n",
      "kid_test_mnist_noise_singleFri-Aug-16-112413-2019\n",
      "kid_test_mnist_noise_singleFri-Aug-16-114501-2019\n",
      "kid_test_mnist_noise_singleFri-Aug-16-112930-2019\n",
      "kid_test_mnist_noise_singleFri-Aug-16-112617-2019\n",
      "kid_test_mnist_noise_singleFri-Aug-16-112333-2019\n",
      "kid_test_mnist_noise_singleFri-Aug-16-113249-2019\n",
      "kid_test_mnist_noise_singleFri-Aug-16-114414-2019\n",
      "kid_test_mnist_noise_singleFri-Aug-16-114921-2019\n",
      "kid_test_mnist_noise_singleFri-Aug-16-112847-2019\n",
      "kid_test_mnist_noise_singleFri-Aug-16-120136-2019\n",
      "kid_test_mnist_noise_singleFri-Aug-16-113533-2019\n",
      "kid_test_mnist_noise_singleFri-Aug-16-093434-2019\n",
      "kid_test_mnist_noise_singleFri-Aug-16-114111-2019\n",
      "kl_test_mnist_noise_singleThu-Aug-15-220030-2019\n",
      "kl_test_mnist_noise_singleThu-Aug-15-220522-2019\n",
      "kl_test_mnist_noise_singleThu-Aug-15-221954-2019\n",
      "kl_test_mnist_noise_singleThu-Aug-15-213725-2019\n",
      "kl_test_mnist_noise_singleThu-Aug-15-214613-2019\n",
      "kl_test_mnist_noise_singleThu-Aug-15-222258-2019\n",
      "kl_test_mnist_noise_singleThu-Aug-15-223741-2019\n",
      "kl_test_mnist_noise_singleThu-Aug-15-215050-2019\n",
      "kl_test_mnist_noise_singleThu-Aug-15-221303-2019\n",
      "kl_test_mnist_noise_singleThu-Aug-15-215512-2019\n",
      "kl_test_mnist_noise_singleThu-Aug-15-231609-2019\n",
      "kl_test_mnist_noise_singleThu-Aug-15-232013-2019\n",
      "kl_test_mnist_noise_singleThu-Aug-15-231229-2019\n",
      "kl_test_mnist_noise_singleThu-Aug-15-232217-2019\n",
      "kl_test_mnist_noise_singleThu-Aug-15-231800-2019\n",
      "kl_test_mnist_noise_singleThu-Aug-15-231408-2019\n",
      "kl_test_mnist_noise_singleThu-Aug-15-223905-2019\n",
      "kl_test_mnist_noise_singleThu-Aug-15-222822-2019\n",
      "kl_test_mnist_noise_singleThu-Aug-15-232644-2019\n",
      "kl_test_mnist_noise_singleThu-Aug-15-232414-2019\n",
      "kl_test_mnist_noise_singleThu-Aug-15-220030-2019\n",
      "kl_test_mnist_noise_singleThu-Aug-15-220522-2019\n",
      "kl_test_mnist_noise_singleThu-Aug-15-221954-2019\n",
      "kl_test_mnist_noise_singleThu-Aug-15-213725-2019\n",
      "kl_test_mnist_noise_singleThu-Aug-15-214613-2019\n",
      "kl_test_mnist_noise_singleThu-Aug-15-222258-2019\n",
      "kl_test_mnist_noise_singleThu-Aug-15-223741-2019\n",
      "kl_test_mnist_noise_singleThu-Aug-15-215050-2019\n",
      "kl_test_mnist_noise_singleThu-Aug-15-221303-2019\n",
      "kl_test_mnist_noise_singleThu-Aug-15-215512-2019\n",
      "kl_test_mnist_noise_singleThu-Aug-15-231609-2019\n",
      "kl_test_mnist_noise_singleThu-Aug-15-232013-2019\n",
      "kl_test_mnist_noise_singleThu-Aug-15-231229-2019\n",
      "kl_test_mnist_noise_singleThu-Aug-15-232217-2019\n",
      "kl_test_mnist_noise_singleThu-Aug-15-231800-2019\n",
      "kl_test_mnist_noise_singleThu-Aug-15-231408-2019\n",
      "kl_test_mnist_noise_singleThu-Aug-15-223905-2019\n",
      "kl_test_mnist_noise_singleThu-Aug-15-222822-2019\n",
      "kl_test_mnist_noise_singleThu-Aug-15-232644-2019\n",
      "kl_test_mnist_noise_singleThu-Aug-15-232414-2019\n"
     ]
    },
    {
     "data": {
      "image/png": "[encoded data removed]",
      "text/plain": [
       "<Figure size 432x288 with 1 Axes>"
      ]
     },
     "metadata": {
      "needs_background": "light"
     },
     "output_type": "display_data"
    }
   ],
   "source": [
    "plot_static_scores(score_path, xticks=['FID','KID','KL','rv_KL','JS'],legends=lgds,save_path='./results/aggregates/compare_score_noise_mnist_convcls_d64.pdf')"
   ]
  },
  {
   "cell_type": "code",
   "execution_count": 8,
   "metadata": {},
   "outputs": [],
   "source": [
    "prd_p = './results/prd_d784/mnist/batch_train/prd_test_mnist_noise/'\n",
    "paths = [prd_p+f for f in sub_f]"
   ]
  },
  {
   "cell_type": "code",
   "execution_count": 10,
   "metadata": {},
   "outputs": [
    {
     "name": "stdout",
     "output_type": "stream",
     "text": [
      "prd_test_mnist_noise_singleMon-Aug-19-232022-2019\n",
      "prd_test_mnist_noise_singleMon-Aug-19-231846-2019\n"
     ]
    }
   ],
   "source": [
    "plot_prd_scores(paths,save_path=prd_p+'prd_compare.pdf',legends=lgds)"
   ]
  },
  {
   "cell_type": "code",
   "execution_count": null,
   "metadata": {},
   "outputs": [],
   "source": []
  },
  {
   "cell_type": "code",
   "execution_count": 70,
   "metadata": {},
   "outputs": [],
   "source": [
    "import scipy as sp\n",
    "from utils.test_util import Gaussian_KL, get_dists"
   ]
  },
  {
   "cell_type": "code",
   "execution_count": 67,
   "metadata": {},
   "outputs": [],
   "source": [
    "def r(x,p2_loc=0.2,p2_scale=1.):\n",
    "    return sp.stats.norm.pdf(x)/sp.stats.norm.pdf(x,loc=p2_loc,scale=p2_scale)"
   ]
  },
  {
   "cell_type": "code",
   "execution_count": 95,
   "metadata": {},
   "outputs": [],
   "source": [
    "def T(x):\n",
    "    return np.vstack([x**2,x]).transpose()"
   ]
  },
  {
   "cell_type": "code",
   "execution_count": 18,
   "metadata": {},
   "outputs": [],
   "source": [
    "def cov(x):\n",
    "    return np.cov(x,rowvar=False)"
   ]
  },
  {
   "cell_type": "code",
   "execution_count": 19,
   "metadata": {},
   "outputs": [],
   "source": [
    "def E(x):\n",
    "    return np.diag(np.mean(x,axis=0))"
   ]
  },
  {
   "cell_type": "code",
   "execution_count": 80,
   "metadata": {},
   "outputs": [],
   "source": [
    "p1_samples = np.random.normal(loc=0.,scale=1.,size=200000)"
   ]
  },
  {
   "cell_type": "code",
   "execution_count": 68,
   "metadata": {},
   "outputs": [],
   "source": [
    "def nu2(p1_samples,p2_loc=0.2,p2_scale=1.):\n",
    "    Tx = T(p1_samples)\n",
    "    icov = np.linalg.inv(cov(Tx))\n",
    "    Erx = E(r(p1_samples,p2_loc,p2_scale).reshape(-1,1)*Tx*Tx)\n",
    "    Ex2 = E(Tx)**2\n",
    "    nu2 = icov+icov*icov*(Erx-Ex2)\n",
    "    return nu2"
   ]
  },
  {
   "cell_type": "code",
   "execution_count": 92,
   "metadata": {},
   "outputs": [],
   "source": [
    "Tx=T(p1_samples)"
   ]
  },
  {
   "cell_type": "code",
   "execution_count": 94,
   "metadata": {},
   "outputs": [
    {
     "data": {
      "text/plain": [
       "array([[ 2.00423927, -0.00823908,  0.        ],\n",
       "       [-0.00823908,  1.00177837,  0.        ],\n",
       "       [ 0.        ,  0.        ,  0.        ]])"
      ]
     },
     "execution_count": 94,
     "metadata": {},
     "output_type": "execute_result"
    }
   ],
   "source": [
    "cov(Tx)"
   ]
  },
  {
   "cell_type": "code",
   "execution_count": 96,
   "metadata": {},
   "outputs": [],
   "source": [
    "KL=[]\n",
    "NU=[]\n",
    "for i in range(21):\n",
    "    delta = 0.1\n",
    "    p2_loc, p2_scale = delta*i, 1.-delta*0.1*delta\n",
    "    nu_dist,de_dist = get_dists(1,0.,1.,p2_loc,p2_scale)\n",
    "    kl = Gaussian_KL(dim=1,dist_a=nu_dist,dist_b=de_dist)\n",
    "    KL.append(kl)\n",
    "    NU.append(np.diag(nu2(p1_samples,p2_loc,p2_scale)))"
   ]
  },
  {
   "cell_type": "code",
   "execution_count": 97,
   "metadata": {},
   "outputs": [],
   "source": [
    "NU = np.vstack(NU)"
   ]
  },
  {
   "cell_type": "code",
   "execution_count": 105,
   "metadata": {},
   "outputs": [
    {
     "data": {
      "image/png": "[encoded data removed]",
      "text/plain": [
       "<Figure size 432x288 with 1 Axes>"
      ]
     },
     "metadata": {},
     "output_type": "display_data"
    }
   ],
   "source": [
    "sn.set_style('darkgrid')\n",
    "cmp = sn.color_palette(\"colorblind\")\n",
    "plt.plot(KL,NU[:,0],'-*',color=cmp[2])\n",
    "plt.plot(KL,NU[:,1],'->',color=cmp[3])\n",
    "plt.legend([r'$\\beta_{t,1}$',r'$\\beta_{t,2}$'],fontsize=13)\n",
    "plt.xlabel(r'$\\mathcal{D}_{KL}(q_{t-1}||q_t)$',fontsize=13)\n",
    "plt.ylabel(r'variance of $\\beta_t$',fontsize=13)\n",
    "plt.savefig('../vis_results/theorem_demo.pdf')"
   ]
  },
  {
   "cell_type": "code",
   "execution_count": null,
   "metadata": {},
   "outputs": [],
   "source": []
  },
  {
   "cell_type": "code",
   "execution_count": null,
   "metadata": {},
   "outputs": [],
   "source": []
  },
  {
   "cell_type": "code",
   "execution_count": null,
   "metadata": {},
   "outputs": [],
   "source": []
  }
 ],
 "metadata": {
  "kernelspec": {
   "display_name": "p36env",
   "language": "python",
   "name": "p36env"
  },
  "language_info": {
   "codemirror_mode": {
    "name": "ipython",
    "version": 3
   },
   "file_extension": ".py",
   "mimetype": "text/x-python",
   "name": "python",
   "nbconvert_exporter": "python",
   "pygments_lexer": "ipython3",
   "version": "3.6.6"
  }
 },
 "nbformat": 4,
 "nbformat_minor": 2
}
