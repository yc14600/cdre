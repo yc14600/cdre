{
 "cells": [
  {
   "cell_type": "code",
   "execution_count": 1,
   "metadata": {},
   "outputs": [
    {
     "name": "stdout",
     "output_type": "stream",
     "text": [
      "WARNING:tensorflow:From /home/yu/gits/p36env/lib/python3.6/site-packages/utils-0.0.1-py3.6.egg/utils/train_util.py:557: The name tf.GraphKeys is deprecated. Please use tf.compat.v1.GraphKeys instead.\n",
      "\n"
     ]
    }
   ],
   "source": [
    "import numpy as np\n",
    "import pandas as pd\n",
    "import os \n",
    "import six\n",
    "import seaborn as sn\n",
    "import matplotlib.pyplot as plt\n",
    "from utils.test_util import calc_divgenerce\n",
    "from utils.data_util import save_samples, extract_data, load_inception_net\n",
    "from aggre_results import *"
   ]
  },
  {
   "cell_type": "code",
   "execution_count": 2,
   "metadata": {},
   "outputs": [],
   "source": [
    "import matplotlib as mtp\n",
    "mtp.rcParams['pdf.fonttype'] = 42\n",
    "mtp.rcParams['ps.fonttype'] = 42"
   ]
  },
  {
   "cell_type": "code",
   "execution_count": 3,
   "metadata": {},
   "outputs": [],
   "source": [
    "%matplotlib inline"
   ]
  },
  {
   "cell_type": "code",
   "execution_count": 4,
   "metadata": {},
   "outputs": [],
   "source": [
    "def aggreate_divergence(path):\n",
    "    sd = os.listdir(path)\n",
    "    data = []\n",
    "    for s in sd:\n",
    "        print(s)\n",
    "        if '.' in s:\n",
    "            continue\n",
    "\n",
    "        ds = np.loadtxt(os.path.join(path,s,'divergence_compare.csv'),delimiter=',')\n",
    "        #ds = np.loadtxt(path+s+'/kl.csv',delimiter=',')\n",
    "        data.append(ds)\n",
    "    n = len(data)\n",
    "    data = np.vstack(data)\n",
    "    data = data.reshape(n,-1,data.shape[-1])\n",
    "    return data"
   ]
  },
  {
   "cell_type": "code",
   "execution_count": 5,
   "metadata": {},
   "outputs": [],
   "source": [
    "def aggreate_score(path,stype='fid',file_id=[0]):\n",
    "    sd = os.listdir(path)\n",
    "    data = []\n",
    "    for s in sd:\n",
    "        print(s)\n",
    "        if '.' in s:\n",
    "            continue\n",
    "        #print(path+s+'/'+stype+'.csv')\n",
    "        if stype in ['prd_seg','prd_half']:\n",
    "            for fi in file_id:\n",
    "                #print('fi',fi)\n",
    "                ds = np.loadtxt(os.path.join(path,s)+'/'+stype+str(fi)+'.csv',delimiter=',')\n",
    "                data.append(ds)\n",
    "                #print(len(data))\n",
    "        else:\n",
    "            ds = np.loadtxt(os.path.join(path,s)+'/'+stype+'.csv',delimiter=',')\n",
    "        #print(ds.shape)\n",
    "        if stype in ['fid','kl','prd']:\n",
    "            #print('load score',ds)\n",
    "            data.append(ds)\n",
    "            \n",
    "        elif stype == 'kid':\n",
    "            if len(ds.shape) > 1:\n",
    "                data.append(ds[:,0])\n",
    "            else:\n",
    "                data.append(ds[0])\n",
    "    n = len(data)\n",
    "    #print(n)\n",
    "    if 'prd' not in stype:\n",
    "        data = np.vstack(data)\n",
    "        data = data.reshape(n,data.shape[-1])\n",
    "        \n",
    "    return data"
   ]
  },
  {
   "cell_type": "code",
   "execution_count": 6,
   "metadata": {},
   "outputs": [],
   "source": [
    "def get_divergence(data,type='kl'):\n",
    "    if type == 'kl':\n",
    "        t = 0\n",
    "        e = 1\n",
    "    elif type == 'tv':\n",
    "        t = 5\n",
    "        e = 6\n",
    "    elif type == 'chi':\n",
    "        t = 7\n",
    "        e = 8\n",
    "        \n",
    "    true_mean = np.mean(data[:,t,:],axis=0)\n",
    "    true_std = np.std(data[:,t,:],axis=0)\n",
    "    est_mean = np.mean(data[:,e,:],axis=0)\n",
    "    est_std = np.std(data[:,e,:],axis=0)\n",
    "    \n",
    "    return true_mean,true_std,est_mean,est_std"
   ]
  },
  {
   "cell_type": "code",
   "execution_count": 7,
   "metadata": {},
   "outputs": [],
   "source": [
    "def get_divergence_err(data,type='kl'):\n",
    "    if type == 'kl':\n",
    "        t = 0\n",
    "        e = 1\n",
    "    elif type == 'tv':\n",
    "        t = 5\n",
    "        e = 6\n",
    "    elif type == 'chi':\n",
    "        t = 7\n",
    "        e = 8\n",
    "        \n",
    "    true_mean = np.mean(data[:,t,:],axis=0)\n",
    "    true_std = np.std(data[:,t,:],axis=0)\n",
    "    est_err_mean = np.mean(np.abs(data[:,e,:]-true_mean),axis=0)\n",
    "    est_err_std = np.std(np.abs(data[:,e,:]-true_mean),axis=0)\n",
    "    \n",
    "    return true_mean,true_std,est_err_mean,est_err_std"
   ]
  },
  {
   "cell_type": "code",
   "execution_count": 8,
   "metadata": {},
   "outputs": [],
   "source": [
    "def get_ratio_err(data,type='mae'):\n",
    "    rt = []\n",
    "    for ds in data:\n",
    "        rt_s = []\n",
    "        for ds_t in ds:\n",
    "            if 'log' not in type: \n",
    "                estd = np.exp(ds_t[:,1])\n",
    "                true = np.exp(ds_t[:,2])\n",
    "            else:\n",
    "                estd = ds_t[:,1]\n",
    "                true = ds_t[:,2]\n",
    "            if 'mae' in type:\n",
    "                err = np.mean(np.abs(estd-true))\n",
    "            elif 'mse' in type:\n",
    "                err = np.mean(np.square(estd-true))\n",
    "                    \n",
    "            rt_s.append(err)\n",
    "        rt.append(rt_s)\n",
    "    return rt"
   ]
  },
  {
   "cell_type": "code",
   "execution_count": 9,
   "metadata": {},
   "outputs": [],
   "source": [
    "def aggregate_ratio(path,T=10):\n",
    "    sd = os.listdir(path)\n",
    "    data = []\n",
    "    for s in sd:\n",
    "        print(os.path.join(path,s))\n",
    "        if '.' in s:\n",
    "            continue\n",
    "        dt = []\n",
    "        for t in range(T):\n",
    "            try:\n",
    "                ds = pd.read_csv(os.path.join(path,s,'sample_ratios_t_t'+str(t+1)+'.csv')).values\n",
    "                dt.append(ds)\n",
    "            except FileNotFoundError:\n",
    "                #print('file not found',os.path.join(path,s,'sample_ratios_t_t'+str(t+1)+'.csv'))\n",
    "                continue\n",
    "        data.append(dt)\n",
    "    return data"
   ]
  },
  {
   "cell_type": "code",
   "execution_count": null,
   "metadata": {},
   "outputs": [],
   "source": []
  },
  {
   "cell_type": "code",
   "execution_count": 10,
   "metadata": {},
   "outputs": [],
   "source": [
    "def cal_div_by_ratio(div_type,paths,T=10,S=10,condition=False):\n",
    "    div_means,div_stds = [],[]\n",
    "    true_divs=[]\n",
    "    for p in paths:\n",
    "        print(p)\n",
    "        data = aggregate_ratio(p,T)\n",
    "        divs=[]\n",
    "        tdiv = []\n",
    "        for s in range(S):\n",
    "            if T>1:\n",
    "                ds = []\n",
    "                true = []\n",
    "                for t in range(len(data[s])):\n",
    "                    #print(s,t)\n",
    "                    rd = data[s][t]\n",
    "                    \n",
    "                    samples_c = one_hot_encoder(rd[:,-1],T) if condition else None\n",
    "                    div = calc_divgenerce(div_type,[rd[:,1]],samples_c)\n",
    "                    true_div = calc_divgenerce(div_type,[rd[:,2]],samples_c)\n",
    "                    #print(div)\n",
    "                    if condition:\n",
    "                        ds.append(div[0][:t+1].mean())\n",
    "                        true.append(true_div[0][:t+1].mean())\n",
    "                    else:\n",
    "                        ds.append(div[0])\n",
    "                        true.append(true_div[0])\n",
    "                    #print(ds[-1])\n",
    "                divs.append(ds)\n",
    "                tdiv.append(true)\n",
    "            else:\n",
    "                div = calc_divgenerce(div_type,[data[s]])\n",
    "                divs.append(div)\n",
    "\n",
    "        divs=np.vstack(divs)\n",
    "        d_mean = np.mean(divs,axis=0)\n",
    "        d_std = np.std(divs,axis=0)\n",
    "        div_means.append(d_mean)\n",
    "        div_stds.append(d_std)\n",
    "        true_divs.append(np.array(tdiv))\n",
    "    return div_means,div_stds,true_divs"
   ]
  },
  {
   "cell_type": "code",
   "execution_count": 11,
   "metadata": {},
   "outputs": [],
   "source": [
    "def aggregate_paths(paths,ftype='div',file_id=[0]):\n",
    "    data = []\n",
    "    for p in paths:\n",
    "        if ftype=='div':\n",
    "            d = aggreate_divergence(p)\n",
    "        elif ftype in ['fid','kid','kl','prd','prd_seg','prd_half']:\n",
    "            d = aggreate_score(p,ftype,file_id)\n",
    "        data.append(d)\n",
    "    return data"
   ]
  },
  {
   "cell_type": "code",
   "execution_count": 12,
   "metadata": {},
   "outputs": [],
   "source": [
    "# max number of time steps for computing\n",
    "t_num = 20  \n",
    "# number of runs\n",
    "S = 10\n",
    "# path of result files, one path includes results of multiple runs by one configuration\n",
    "path = '../results/cl_d64_s50000_kl/'\n",
    "paths = ['dre_t20','cdre_t20','cdre_t5']\n",
    "paths = [os.path.join(path,p) for p in paths]"
   ]
  },
  {
   "cell_type": "code",
   "execution_count": 13,
   "metadata": {},
   "outputs": [
    {
     "name": "stdout",
     "output_type": "stream",
     "text": [
      "cl_ratio_test_d64_Wed-Aug-12-021540-2020\n",
      "cl_ratio_test_d64_Wed-Aug-12-023440-2020\n",
      "cl_ratio_test_d64_Wed-Aug-12-022430-2020\n",
      "cl_ratio_test_d64_Wed-Aug-12-022019-2020\n",
      "cl_ratio_test_d64_Tue-Aug-11-225541-2020\n",
      "cl_ratio_test_d64_Wed-Aug-12-022945-2020\n",
      "cl_ratio_test_d64_Wed-Aug-12-021042-2020\n",
      "cl_ratio_test_d64_Wed-Aug-12-023947-2020\n",
      "cl_ratio_test_d64_Wed-Aug-12-024840-2020\n",
      "cl_ratio_test_d64_Wed-Aug-12-024405-2020\n",
      "cl_ratio_test_d64_Wed-Aug-12-013540-2020\n",
      "cl_ratio_test_d64_Wed-Aug-12-004701-2020\n",
      "cl_ratio_test_d64_Wed-Aug-12-002422-2020\n",
      "cl_ratio_test_d64_Wed-Aug-12-015856-2020\n",
      "cl_ratio_test_d64_Wed-Aug-12-010027-2020\n",
      "cl_ratio_test_d64_Wed-Aug-12-012139-2020\n",
      "cl_ratio_test_d64_Wed-Aug-12-001244-2020\n",
      "cl_ratio_test_d64_Tue-Aug-11-220539-2020\n",
      "cl_ratio_test_d64_Wed-Aug-12-003632-2020\n",
      "cl_ratio_test_d64_Wed-Aug-12-011011-2020\n",
      "cl_ratio_test_d64_Tue-Aug-11-222334-2020\n",
      "cl_ratio_test_d64_Wed-Aug-12-014701-2020\n",
      "cl_ratio_test_d64_Wed-Aug-12-122515-2020\n",
      "cl_ratio_test_d64_Wed-Aug-12-121758-2020\n",
      "cl_ratio_test_d64_Wed-Aug-12-120711-2020\n",
      "logr_MAE.pdf\n",
      "cl_ratio_test_d64_Wed-Aug-12-122018-2020\n",
      "cl_ratio_test_d64_Wed-Aug-12-120920-2020\n",
      "cl_ratio_test_d64_Wed-Aug-12-120407-2020\n",
      "cl_ratio_test_d64_Wed-Aug-12-121617-2020\n",
      "cl_ratio_test_d64_Wed-Aug-12-122307-2020\n",
      "compare_kl.pdf\n",
      "cl_ratio_test_d64_Wed-Aug-12-121321-2020\n",
      "cl_ratio_test_d64_Wed-Aug-12-121124-2020\n"
     ]
    }
   ],
   "source": [
    "# get KL divergence \n",
    "kl_means,kl_stds = [],[]\n",
    "for path in paths:\n",
    "    data = aggreate_divergence(path)\n",
    "    true_kl_mean,true_kl_std,kl_mean,kl_std = get_divergence(data,type='kl')\n",
    "    kl_means.append(kl_mean)\n",
    "    kl_stds.append(kl_std)"
   ]
  },
  {
   "cell_type": "code",
   "execution_count": 14,
   "metadata": {},
   "outputs": [
    {
     "name": "stdout",
     "output_type": "stream",
     "text": [
      "../results/cl_d64_s50000_kl/dre_t20/cl_ratio_test_d64_Wed-Aug-12-021540-2020\n",
      "../results/cl_d64_s50000_kl/dre_t20/cl_ratio_test_d64_Wed-Aug-12-023440-2020\n",
      "../results/cl_d64_s50000_kl/dre_t20/cl_ratio_test_d64_Wed-Aug-12-022430-2020\n",
      "../results/cl_d64_s50000_kl/dre_t20/cl_ratio_test_d64_Wed-Aug-12-022019-2020\n",
      "../results/cl_d64_s50000_kl/dre_t20/cl_ratio_test_d64_Tue-Aug-11-225541-2020\n",
      "../results/cl_d64_s50000_kl/dre_t20/cl_ratio_test_d64_Wed-Aug-12-022945-2020\n",
      "../results/cl_d64_s50000_kl/dre_t20/cl_ratio_test_d64_Wed-Aug-12-021042-2020\n",
      "../results/cl_d64_s50000_kl/dre_t20/cl_ratio_test_d64_Wed-Aug-12-023947-2020\n",
      "../results/cl_d64_s50000_kl/dre_t20/cl_ratio_test_d64_Wed-Aug-12-024840-2020\n",
      "../results/cl_d64_s50000_kl/dre_t20/cl_ratio_test_d64_Wed-Aug-12-024405-2020\n",
      "../results/cl_d64_s50000_kl/cdre_t20/cl_ratio_test_d64_Wed-Aug-12-013540-2020\n",
      "../results/cl_d64_s50000_kl/cdre_t20/cl_ratio_test_d64_Wed-Aug-12-004701-2020\n",
      "../results/cl_d64_s50000_kl/cdre_t20/cl_ratio_test_d64_Wed-Aug-12-002422-2020\n",
      "../results/cl_d64_s50000_kl/cdre_t20/cl_ratio_test_d64_Wed-Aug-12-015856-2020\n",
      "../results/cl_d64_s50000_kl/cdre_t20/cl_ratio_test_d64_Wed-Aug-12-010027-2020\n",
      "../results/cl_d64_s50000_kl/cdre_t20/cl_ratio_test_d64_Wed-Aug-12-012139-2020\n",
      "../results/cl_d64_s50000_kl/cdre_t20/cl_ratio_test_d64_Wed-Aug-12-001244-2020\n",
      "../results/cl_d64_s50000_kl/cdre_t20/cl_ratio_test_d64_Tue-Aug-11-220539-2020\n",
      "../results/cl_d64_s50000_kl/cdre_t20/cl_ratio_test_d64_Wed-Aug-12-003632-2020\n",
      "../results/cl_d64_s50000_kl/cdre_t20/cl_ratio_test_d64_Wed-Aug-12-011011-2020\n",
      "../results/cl_d64_s50000_kl/cdre_t20/cl_ratio_test_d64_Tue-Aug-11-222334-2020\n",
      "../results/cl_d64_s50000_kl/cdre_t20/cl_ratio_test_d64_Wed-Aug-12-014701-2020\n",
      "../results/cl_d64_s50000_kl/cdre_t5/cl_ratio_test_d64_Wed-Aug-12-122515-2020\n",
      "../results/cl_d64_s50000_kl/cdre_t5/cl_ratio_test_d64_Wed-Aug-12-121758-2020\n",
      "../results/cl_d64_s50000_kl/cdre_t5/cl_ratio_test_d64_Wed-Aug-12-120711-2020\n",
      "../results/cl_d64_s50000_kl/cdre_t5/logr_MAE.pdf\n",
      "../results/cl_d64_s50000_kl/cdre_t5/cl_ratio_test_d64_Wed-Aug-12-122018-2020\n",
      "../results/cl_d64_s50000_kl/cdre_t5/cl_ratio_test_d64_Wed-Aug-12-120920-2020\n",
      "../results/cl_d64_s50000_kl/cdre_t5/cl_ratio_test_d64_Wed-Aug-12-120407-2020\n",
      "../results/cl_d64_s50000_kl/cdre_t5/cl_ratio_test_d64_Wed-Aug-12-121617-2020\n",
      "../results/cl_d64_s50000_kl/cdre_t5/cl_ratio_test_d64_Wed-Aug-12-122307-2020\n",
      "../results/cl_d64_s50000_kl/cdre_t5/compare_kl.pdf\n",
      "../results/cl_d64_s50000_kl/cdre_t5/cl_ratio_test_d64_Wed-Aug-12-121321-2020\n",
      "../results/cl_d64_s50000_kl/cdre_t5/cl_ratio_test_d64_Wed-Aug-12-121124-2020\n"
     ]
    }
   ],
   "source": [
    "# compute log MAE of ratios\n",
    "err_means, err_stds = [], []\n",
    "ratios=[]\n",
    "for path in paths:\n",
    "    data = aggregate_ratio(path,T=t_num)\n",
    "    err = get_ratio_err(data,type='logmae')\n",
    "    err = np.array(err)\n",
    "    err_means.append(np.mean(err,axis=0))\n",
    "    err_stds.append(np.std(err,axis=0))\n",
    "    ratios.append(data)"
   ]
  },
  {
   "cell_type": "code",
   "execution_count": 15,
   "metadata": {},
   "outputs": [
    {
     "data": {
      "image/png": "[encoded data removed]",
      "text/plain": [
       "<Figure size 432x288 with 1 Axes>"
      ]
     },
     "metadata": {},
     "output_type": "display_data"
    }
   ],
   "source": [
    "## visualize comparison of log MAE\n",
    "\n",
    "sn.set_style('darkgrid')\n",
    "cmp = sn.color_palette(\"colorblind\")\n",
    "markers = ['o','>','s','*']\n",
    "\n",
    "for i,(err_mean,err_std) in enumerate(zip(err_means,err_stds)):\n",
    "    T=np.arange(0,t_num+1,int(t_num/len(err_mean)))\n",
    "    plt.errorbar(T,[0]+list(err_mean),yerr=[0]+list(err_std),alpha=0.75,marker=markers[i],color=cmp[i+1])\n",
    "      \n",
    "plt.legend([r'KLIEP',r'CKLIEP_d1',r'CKLIEP_d4'],fontsize=12,loc=2)\n",
    "plt.xlabel(r'$t$',fontsize=14)\n",
    "plt.ylabel('MAE of log ratio',fontsize=14)\n",
    "plt.xticks(np.arange(t_num+1))\n",
    "plt.savefig(os.path.join(path,'logr_MAE.pdf'))"
   ]
  },
  {
   "cell_type": "code",
   "execution_count": null,
   "metadata": {},
   "outputs": [],
   "source": []
  },
  {
   "cell_type": "code",
   "execution_count": 16,
   "metadata": {},
   "outputs": [
    {
     "data": {
      "image/png": "[encoded data removed]",
      "text/plain": [
       "<Figure size 432x288 with 1 Axes>"
      ]
     },
     "metadata": {},
     "output_type": "display_data"
    }
   ],
   "source": [
    "cmp = sn.color_palette(\"colorblind\")\n",
    "T=np.arange(0,t_num+1,int(t_num/len(true_kl_mean)))\n",
    "plt.plot(T,[0]+list(true_kl_mean),color='k') \n",
    "for i,(div_mean,div_std) in enumerate(zip(kl_means,kl_stds)):\n",
    "    T=np.arange(0,t_num+1,int(t_num/len(div_mean)))\n",
    "    plt.errorbar(T[1:],div_mean,yerr=div_std,color=cmp[i+1],marker=markers[i+1])\n",
    "    #plt.fill_between(T[1:],div_mean-div_std,div_mean+div_std,alpha=0.3,color=cmp[i+1])\n",
    "    \n",
    "\n",
    "plt.legend(['true',r'KLIEP',r'CKLIEP-d1',r'CKLIEP-d4'],fontsize=14,loc=2)    \n",
    "\n",
    "plt.xlabel(r'$t$',fontsize=14)\n",
    "\n",
    "plt.xticks(np.arange(t_num+1))\n",
    "plt.savefig(os.path.join(path,'compare_kl.pdf'))"
   ]
  },
  {
   "cell_type": "code",
   "execution_count": null,
   "metadata": {},
   "outputs": [],
   "source": []
  },
  {
   "cell_type": "code",
   "execution_count": null,
   "metadata": {},
   "outputs": [],
   "source": []
  }
 ],
 "metadata": {
  "kernelspec": {
   "display_name": "p36env",
   "language": "python",
   "name": "p36env"
  },
  "language_info": {
   "codemirror_mode": {
    "name": "ipython",
    "version": 3
   },
   "file_extension": ".py",
   "mimetype": "text/x-python",
   "name": "python",
   "nbconvert_exporter": "python",
   "pygments_lexer": "ipython3",
   "version": "3.6.6"
  }
 },
 "nbformat": 4,
 "nbformat_minor": 2
}
