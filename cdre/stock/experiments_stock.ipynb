{
 "cells": [
  {
   "cell_type": "code",
   "execution_count": 1,
   "metadata": {},
   "outputs": [],
   "source": [
    "import pandas as pd\n",
    "import numpy as np\n",
    "import scipy as sp\n",
    "import matplotlib.pyplot as plt\n",
    "from sklearn.gaussian_process import GaussianProcessRegressor\n",
    "from sklearn.metrics import mean_absolute_error,r2_score\n",
    "from sklearn.gaussian_process.kernels import RBF\n",
    "import seaborn as sns\n",
    "import os\n",
    "import warnings\n",
    "warnings.filterwarnings('ignore')"
   ]
  },
  {
   "cell_type": "markdown",
   "metadata": {},
   "source": [
    "### The first step is to preprocess raw stock data"
   ]
  },
  {
   "cell_type": "code",
   "execution_count": 2,
   "metadata": {
    "scrolled": true
   },
   "outputs": [
    {
     "data": {
      "text/html": [
       "<div>\n",
       "<style scoped>\n",
       "    .dataframe tbody tr th:only-of-type {\n",
       "        vertical-align: middle;\n",
       "    }\n",
       "\n",
       "    .dataframe tbody tr th {\n",
       "        vertical-align: top;\n",
       "    }\n",
       "\n",
       "    .dataframe thead th {\n",
       "        text-align: right;\n",
       "    }\n",
       "</style>\n",
       "<table border=\"1\" class=\"dataframe\">\n",
       "  <thead>\n",
       "    <tr style=\"text-align: right;\">\n",
       "      <th></th>\n",
       "      <th>time</th>\n",
       "      <th>eventType</th>\n",
       "      <th>orderID</th>\n",
       "      <th>size</th>\n",
       "      <th>price</th>\n",
       "      <th>direction</th>\n",
       "    </tr>\n",
       "  </thead>\n",
       "  <tbody>\n",
       "    <tr>\n",
       "      <th>0</th>\n",
       "      <td>34200.013994</td>\n",
       "      <td>3</td>\n",
       "      <td>16085616</td>\n",
       "      <td>100</td>\n",
       "      <td>310400</td>\n",
       "      <td>-1</td>\n",
       "    </tr>\n",
       "    <tr>\n",
       "      <th>1</th>\n",
       "      <td>34200.013994</td>\n",
       "      <td>1</td>\n",
       "      <td>16116348</td>\n",
       "      <td>100</td>\n",
       "      <td>310500</td>\n",
       "      <td>-1</td>\n",
       "    </tr>\n",
       "    <tr>\n",
       "      <th>2</th>\n",
       "      <td>34200.015248</td>\n",
       "      <td>1</td>\n",
       "      <td>16116658</td>\n",
       "      <td>100</td>\n",
       "      <td>310400</td>\n",
       "      <td>-1</td>\n",
       "    </tr>\n",
       "    <tr>\n",
       "      <th>3</th>\n",
       "      <td>34200.015442</td>\n",
       "      <td>1</td>\n",
       "      <td>16116704</td>\n",
       "      <td>100</td>\n",
       "      <td>310500</td>\n",
       "      <td>-1</td>\n",
       "    </tr>\n",
       "    <tr>\n",
       "      <th>4</th>\n",
       "      <td>34200.015789</td>\n",
       "      <td>1</td>\n",
       "      <td>16116752</td>\n",
       "      <td>100</td>\n",
       "      <td>310600</td>\n",
       "      <td>-1</td>\n",
       "    </tr>\n",
       "  </tbody>\n",
       "</table>\n",
       "</div>"
      ],
      "text/plain": [
       "           time  eventType   orderID  size   price  direction\n",
       "0  34200.013994          3  16085616   100  310400         -1\n",
       "1  34200.013994          1  16116348   100  310500         -1\n",
       "2  34200.015248          1  16116658   100  310400         -1\n",
       "3  34200.015442          1  16116704   100  310500         -1\n",
       "4  34200.015789          1  16116752   100  310600         -1"
      ]
     },
     "execution_count": 2,
     "metadata": {},
     "output_type": "execute_result"
    }
   ],
   "source": [
    "raw_data_path = '/home/yu/gits/data/LOB/MSFT/MSFT_2012-06-21_34200000_57600000_message_10.csv' # the path of keeping raw stock data\n",
    "stock_m = pd.read_csv(raw_data_path,names=['time','eventType','orderID','size','price','direction'],index_col=False)\n",
    "stock_m.head()"
   ]
  },
  {
   "cell_type": "code",
   "execution_count": 3,
   "metadata": {},
   "outputs": [
    {
     "data": {
      "text/html": [
       "<div>\n",
       "<style scoped>\n",
       "    .dataframe tbody tr th:only-of-type {\n",
       "        vertical-align: middle;\n",
       "    }\n",
       "\n",
       "    .dataframe tbody tr th {\n",
       "        vertical-align: top;\n",
       "    }\n",
       "\n",
       "    .dataframe thead th {\n",
       "        text-align: right;\n",
       "    }\n",
       "</style>\n",
       "<table border=\"1\" class=\"dataframe\">\n",
       "  <thead>\n",
       "    <tr style=\"text-align: right;\">\n",
       "      <th></th>\n",
       "      <th>time</th>\n",
       "      <th>size</th>\n",
       "      <th>price</th>\n",
       "      <th>direction</th>\n",
       "    </tr>\n",
       "  </thead>\n",
       "  <tbody>\n",
       "    <tr>\n",
       "      <th>18</th>\n",
       "      <td>34200.039884</td>\n",
       "      <td>300</td>\n",
       "      <td>309600</td>\n",
       "      <td>-1</td>\n",
       "    </tr>\n",
       "    <tr>\n",
       "      <th>19</th>\n",
       "      <td>34200.039884</td>\n",
       "      <td>27</td>\n",
       "      <td>309700</td>\n",
       "      <td>-1</td>\n",
       "    </tr>\n",
       "    <tr>\n",
       "      <th>65</th>\n",
       "      <td>34200.317290</td>\n",
       "      <td>100</td>\n",
       "      <td>309700</td>\n",
       "      <td>-1</td>\n",
       "    </tr>\n",
       "    <tr>\n",
       "      <th>66</th>\n",
       "      <td>34200.317290</td>\n",
       "      <td>100</td>\n",
       "      <td>309700</td>\n",
       "      <td>-1</td>\n",
       "    </tr>\n",
       "    <tr>\n",
       "      <th>67</th>\n",
       "      <td>34200.317290</td>\n",
       "      <td>100</td>\n",
       "      <td>309700</td>\n",
       "      <td>-1</td>\n",
       "    </tr>\n",
       "  </tbody>\n",
       "</table>\n",
       "</div>"
      ],
      "text/plain": [
       "            time  size   price  direction\n",
       "18  34200.039884   300  309600         -1\n",
       "19  34200.039884    27  309700         -1\n",
       "65  34200.317290   100  309700         -1\n",
       "66  34200.317290   100  309700         -1\n",
       "67  34200.317290   100  309700         -1"
      ]
     },
     "execution_count": 3,
     "metadata": {},
     "output_type": "execute_result"
    }
   ],
   "source": [
    "# select buying or saling events as actual transactions and remove irrelavent features\n",
    "edata = stock_m.loc[(stock_m.eventType==4)|(stock_m.eventType==5)]\n",
    "del edata['eventType']\n",
    "del edata['orderID']\n",
    "edata.head()"
   ]
  },
  {
   "cell_type": "code",
   "execution_count": 4,
   "metadata": {},
   "outputs": [
    {
     "data": {
      "text/html": [
       "<div>\n",
       "<style scoped>\n",
       "    .dataframe tbody tr th:only-of-type {\n",
       "        vertical-align: middle;\n",
       "    }\n",
       "\n",
       "    .dataframe tbody tr th {\n",
       "        vertical-align: top;\n",
       "    }\n",
       "\n",
       "    .dataframe thead th {\n",
       "        text-align: right;\n",
       "    }\n",
       "</style>\n",
       "<table border=\"1\" class=\"dataframe\">\n",
       "  <thead>\n",
       "    <tr style=\"text-align: right;\">\n",
       "      <th></th>\n",
       "      <th>time</th>\n",
       "      <th>size</th>\n",
       "      <th>price</th>\n",
       "      <th>direction</th>\n",
       "    </tr>\n",
       "  </thead>\n",
       "  <tbody>\n",
       "    <tr>\n",
       "      <th>18</th>\n",
       "      <td>0.039884</td>\n",
       "      <td>300</td>\n",
       "      <td>309600</td>\n",
       "      <td>-1</td>\n",
       "    </tr>\n",
       "    <tr>\n",
       "      <th>19</th>\n",
       "      <td>0.039884</td>\n",
       "      <td>27</td>\n",
       "      <td>309700</td>\n",
       "      <td>-1</td>\n",
       "    </tr>\n",
       "    <tr>\n",
       "      <th>65</th>\n",
       "      <td>0.317290</td>\n",
       "      <td>100</td>\n",
       "      <td>309700</td>\n",
       "      <td>-1</td>\n",
       "    </tr>\n",
       "    <tr>\n",
       "      <th>66</th>\n",
       "      <td>0.317290</td>\n",
       "      <td>100</td>\n",
       "      <td>309700</td>\n",
       "      <td>-1</td>\n",
       "    </tr>\n",
       "    <tr>\n",
       "      <th>67</th>\n",
       "      <td>0.317290</td>\n",
       "      <td>100</td>\n",
       "      <td>309700</td>\n",
       "      <td>-1</td>\n",
       "    </tr>\n",
       "  </tbody>\n",
       "</table>\n",
       "</div>"
      ],
      "text/plain": [
       "        time  size   price  direction\n",
       "18  0.039884   300  309600         -1\n",
       "19  0.039884    27  309700         -1\n",
       "65  0.317290   100  309700         -1\n",
       "66  0.317290   100  309700         -1\n",
       "67  0.317290   100  309700         -1"
      ]
     },
     "execution_count": 4,
     "metadata": {},
     "output_type": "execute_result"
    }
   ],
   "source": [
    "edata.loc[:,'time'] -= 34200    # calibrate time stamps to start from 0\n",
    "edata.head()"
   ]
  },
  {
   "cell_type": "code",
   "execution_count": 5,
   "metadata": {},
   "outputs": [
    {
     "name": "stdout",
     "output_type": "stream",
     "text": [
      "0\n",
      "1\n",
      "2\n",
      "3\n",
      "4\n"
     ]
    }
   ],
   "source": [
    "prev = edata.values[:,1:] # prepare previous transactions by removing time stamps\n",
    "final = edata.values  \n",
    "T = 5 # number of previous transcations for stacking\n",
    "\n",
    "# generate new samples of each transaction by stack 5 previous transcations\n",
    "for k in range(T):\n",
    "    print(k)\n",
    "    prev = np.vstack([np.zeros([1,3]),prev])[:-1]\n",
    "    final = np.hstack([final,prev])\n",
    "    \n",
    "v = np.concatenate([final[1:,2],[0]]).reshape([-1,1]) # set price of next transaction as prediction\n",
    "final = np.hstack([final,v])\n",
    "final = final[:-1] # remove last sample as there is no observed next price "
   ]
  },
  {
   "cell_type": "code",
   "execution_count": null,
   "metadata": {},
   "outputs": [],
   "source": []
  },
  {
   "cell_type": "code",
   "execution_count": 6,
   "metadata": {},
   "outputs": [
    {
     "name": "stdout",
     "output_type": "stream",
     "text": [
      "obtained 11242 total transactions between 0 and 7200\n",
      "obtained 9183 total transactions between 1800 and 9000\n",
      "obtained 7652 total transactions between 3600 and 10800\n",
      "obtained 7395 total transactions between 5400 and 12600\n",
      "obtained 6944 total transactions between 7200 and 14400\n",
      "obtained 6819 total transactions between 9000 and 16200\n",
      "obtained 6527 total transactions between 10800 and 18000\n",
      "obtained 6427 total transactions between 12600 and 19800\n",
      "obtained 8064 total transactions between 14400 and 21600\n",
      "obtained 13693 total transactions between 16200 and 23400\n"
     ]
    }
   ],
   "source": [
    "ot,t=0,0\n",
    "splits=[]\n",
    "iv = 1800 # time window interval is 30 minutes\n",
    "norm = []\n",
    "tests = []\n",
    "L, TL = 6000, 500 # number of training and testing samples\n",
    "while t < 23400: # 23400 is the maximum time\n",
    "    \n",
    "    if t < 7200:  # the first 2-hour window\n",
    "        t = 7200\n",
    "        s = final[final[:,0]<7200]\n",
    "\n",
    "\n",
    "    else:  # sliding time window \n",
    "        ot += iv  \n",
    "        t += iv\n",
    "        s = final[(final[:,0]<t)&(final[:,0]>=ot)]   \n",
    "\n",
    "    \n",
    "    if s is not None:\n",
    "        norm.append(np.abs(np.max(s,axis=0)))\n",
    "        s /= norm[-1]\n",
    "        print('obtained {} total transactions between {} and {}'.format(len(s),ot,t))\n",
    "        tests.append(s[-TL:])  # seprate last TL transactions as test set of each time window\n",
    "        s = s[:-TL]\n",
    "        if len(s) > L:\n",
    "            splits.append(s[-L:])\n",
    "        else:\n",
    "            idx = np.random.choice(len(s),size=L,replace=True)\n",
    "            splits.append(s[idx])\n",
    "        \n",
    "    else:\n",
    "        print('0')\n",
    "splits = np.array(splits)\n",
    "np.save('./MSFT',splits) # save processed data"
   ]
  },
  {
   "cell_type": "markdown",
   "metadata": {},
   "source": [
    "### The second step is to estimate KL-divergence between the initial time window and each slided windows, which can be done by using the provided cl_ratio_test.py"
   ]
  },
  {
   "cell_type": "markdown",
   "metadata": {},
   "source": [
    "### The third step is to train a regression model to predict the price of next transaction in two cases: 1. wihout re-train the model during the whole time period; 2. re-train the model when the estimated KL-divergence exceeds a threshold. Following is the thrid step: "
   ]
  },
  {
   "cell_type": "code",
   "execution_count": 7,
   "metadata": {},
   "outputs": [],
   "source": [
    "# define function of Mean Absolute Percentage Error\n",
    "def MAPE(y_pred,y_true):\n",
    "    return np.mean(np.abs((y_pred - y_true)/y_true))*100."
   ]
  },
  {
   "cell_type": "code",
   "execution_count": 8,
   "metadata": {
    "scrolled": true
   },
   "outputs": [
    {
     "name": "stdout",
     "output_type": "stream",
     "text": [
      "test run 0\n",
      "MAPE at step 1: 0.02206027522599168\n",
      "MAPE at step 2: 0.4405057539071163\n",
      "MAPE at step 3: 0.05885056676180347\n",
      "MAPE at step 4: 0.36596270150888033\n",
      "MAPE at step 5: 0.13933463309761654\n",
      "MAPE at step 6: 0.050333899323492005\n",
      "MAPE at step 7: 0.409538958368882\n",
      "MAPE at step 8: 0.7451817726553764\n",
      "MAPE at step 9: 0.3102173351187947\n",
      "MAPE at step 10: 1.6987508148535009\n"
     ]
    }
   ],
   "source": [
    "# train the model in the first case\n",
    "rts=[]\n",
    "R = 1 # number of random tests\n",
    "for r in range(R):\n",
    "    print('test run {}'.format(r))\n",
    "    rt=[]\n",
    "    for j in range(1):\n",
    "        regressor = GaussianProcessRegressor(random_state=r)\n",
    "        regressor.fit(splits[0][:,:-1],splits[0][:,-1:])\n",
    "        errs = []\n",
    "        for i in range(0,len(tests)):\n",
    "            test_id = i\n",
    "            pre = regressor.predict(tests[i][:,:-1],return_std=False)\n",
    "            err = MAPE(y_pred=pre*norm[i][-1],y_true=tests[i][:,-1:]*norm[i][-1])\n",
    "            print('MAPE at step {}: {}'.format(i+1, err))\n",
    "            errs.append(err)\n",
    "        rt.append(errs)\n",
    "    rts.append(rt)"
   ]
  },
  {
   "cell_type": "code",
   "execution_count": 9,
   "metadata": {},
   "outputs": [
    {
     "data": {
      "text/plain": [
       "[<matplotlib.lines.Line2D at 0x7f90382e2160>]"
      ]
     },
     "execution_count": 9,
     "metadata": {},
     "output_type": "execute_result"
    },
    {
     "data": {
      "image/png": "[encoded data removed]",
      "text/plain": [
       "<Figure size 432x288 with 1 Axes>"
      ]
     },
     "metadata": {
      "needs_background": "light"
     },
     "output_type": "display_data"
    }
   ],
   "source": [
    "# plot the error trend of the 1st case\n",
    "rt = np.array(rt)\n",
    "plt.plot(np.arange(len(rt[0])),rt.mean(axis=0))"
   ]
  },
  {
   "cell_type": "code",
   "execution_count": 10,
   "metadata": {},
   "outputs": [
    {
     "name": "stdout",
     "output_type": "stream",
     "text": [
      "MAPE at step 7: 0.22053222598443978\n",
      "MAPE at step 8: 0.134131496106682\n",
      "MAPE at step 9: 0.05333233013948076\n",
      "MAPE at step 10: 0.4505643130610927\n"
     ]
    }
   ],
   "source": [
    "# train the model in the 2nd case\n",
    "rt2=[]\n",
    "t = 6 # the time index of re-training, which should be obtained in the second step\n",
    "for j in range(1):\n",
    "    regressor = GaussianProcessRegressor(random_state=j)\n",
    "    regressor.fit(splits[t][:,:-1],splits[t][:,-1:])\n",
    "    errs = []\n",
    "    for i in range(t,len(tests)):\n",
    "        test_id = i\n",
    "        pre = regressor.predict(tests[i][:,:-1],return_std=False)\n",
    "        err = MAPE(y_pred=pre*norm[i][-1],y_true=tests[i][:,-1:]*norm[i][-1])\n",
    "        print('MAPE at step {}: {}'.format(i+1, err))\n",
    "        errs.append(err)\n",
    "    rt2.append(errs)"
   ]
  },
  {
   "cell_type": "code",
   "execution_count": 11,
   "metadata": {},
   "outputs": [
    {
     "data": {
      "text/plain": [
       "<matplotlib.legend.Legend at 0x7f903820b5f8>"
      ]
     },
     "execution_count": 11,
     "metadata": {},
     "output_type": "execute_result"
    },
    {
     "data": {
      "image/png": "[encoded data removed]",
      "text/plain": [
       "<Figure size 432x288 with 1 Axes>"
      ]
     },
     "metadata": {},
     "output_type": "display_data"
    }
   ],
   "source": [
    "# visualize the difference of MAPE between the 1st and 2nd cases\n",
    "rt2 = np.array(rt2)\n",
    "rt2 = np.hstack([rt[0,:t],rt2[0]])\n",
    "sns.set_style(style='darkgrid')\n",
    "plt.plot(np.arange(len(rt[0])),rt.mean(axis=0))\n",
    "plt.plot(np.arange(len(rt2)),rt2)\n",
    "plt.xticks(np.arange(len(rt2)))\n",
    "plt.xlabel('time index')\n",
    "plt.ylabel('MAPE')\n",
    "plt.legend(['without CDRE','with CDRE'])\n",
    "plt.savefig('../results/stock/MSFT/mape.pdf')"
   ]
  },
  {
   "cell_type": "code",
   "execution_count": null,
   "metadata": {},
   "outputs": [],
   "source": []
  },
  {
   "cell_type": "code",
   "execution_count": null,
   "metadata": {},
   "outputs": [],
   "source": []
  },
  {
   "cell_type": "markdown",
   "metadata": {},
   "source": [
    "### The following code is to visualize the  estimated KL-divergence with or without restart during the CDRE process"
   ]
  },
  {
   "cell_type": "code",
   "execution_count": 12,
   "metadata": {},
   "outputs": [
    {
     "name": "stdout",
     "output_type": "stream",
     "text": [
      "cl_ratio_test_d19_Tue-Apr-13-101744-2021\n",
      "cl_ratio_test_d19_Tue-Apr-13-100059-2021\n",
      "cl_ratio_test_d19_Tue-Apr-13-100927-2021\n",
      "cl_ratio_test_d19_Tue-Apr-13-103304-2021\n",
      "cl_ratio_test_d19_Tue-Apr-13-101406-2021\n",
      "cl_ratio_test_d19_Tue-Apr-13-102915-2021\n",
      "cl_ratio_test_d19_Tue-Apr-13-095641-2021\n",
      "cl_ratio_test_d19_Tue-Apr-13-102430-2021\n",
      "cl_ratio_test_d19_Tue-Apr-13-100424-2021\n",
      "cl_ratio_test_d19_Tue-Apr-13-102103-2021\n"
     ]
    }
   ],
   "source": [
    "path = '../results/stock/MSFT/ori/' # the result path of CDRE estimations without restart in the second step\n",
    "sd = os.listdir(path)\n",
    "data = []\n",
    "for s in sd:\n",
    "    print(s)\n",
    "    if '.' in s:\n",
    "        continue\n",
    "    ds = np.loadtxt(os.path.join(path,s,'divergence_compare.csv'), delimiter=',')\n",
    "    data.append(ds)\n",
    "    \n",
    "kls = []\n",
    "for d in data:\n",
    "    kls.append(d[0])\n",
    "kls = np.array(kls)"
   ]
  },
  {
   "cell_type": "code",
   "execution_count": 13,
   "metadata": {},
   "outputs": [
    {
     "name": "stdout",
     "output_type": "stream",
     "text": [
      "cl_ratio_test_d19_Tue-Apr-13-090220-2021\n",
      "cl_ratio_test_d19_Tue-Apr-13-091950-2021\n",
      "cl_ratio_test_d19_Tue-Apr-13-091330-2021\n",
      "cl_ratio_test_d19_Tue-Apr-13-091133-2021\n",
      "cl_ratio_test_d19_Tue-Apr-13-091735-2021\n",
      "cl_ratio_test_d19_Tue-Apr-13-091550-2021\n",
      "cl_ratio_test_d19_Tue-Apr-13-090425-2021\n",
      "cl_ratio_test_d19_Tue-Apr-13-092142-2021\n",
      "cl_ratio_test_d19_Tue-Apr-13-090859-2021\n",
      "cl_ratio_test_d19_Tue-Apr-13-090633-2021\n"
     ]
    }
   ],
   "source": [
    "path = '../results/stock/MSFT/restart/' # the result path of CDRE estimations with restart in the second step\n",
    "sd = os.listdir(path)\n",
    "data = []\n",
    "for s in sd:\n",
    "    print(s)\n",
    "    if '.' in s:\n",
    "        continue\n",
    "    ds = np.loadtxt(os.path.join(path,s,'divergence_compare.csv'), delimiter=',')\n",
    "    data.append(ds)\n",
    "rkls = []\n",
    "for d in data:\n",
    "    rkls.append(d[0])\n",
    "rkls = np.array(rkls)"
   ]
  },
  {
   "cell_type": "code",
   "execution_count": 14,
   "metadata": {},
   "outputs": [
    {
     "data": {
      "image/png": "[encoded data removed]",
      "text/plain": [
       "<Figure size 432x288 with 1 Axes>"
      ]
     },
     "metadata": {},
     "output_type": "display_data"
    }
   ],
   "source": [
    "# visualize the estimated KL-divergences in both cases\n",
    "sns.set_style(style='darkgrid')\n",
    "\n",
    "plt.plot(np.arange(kls.shape[1]+1),np.concatenate([[0.],kls.mean(axis=0)]))\n",
    "plt.plot(np.arange(rkls.shape[1]+1),np.concatenate([[0.],rkls.mean(axis=0)]))\n",
    "\n",
    "plt.fill_between(np.arange(kls.shape[1])+1,kls.mean(axis=0)-kls.std(axis=0),kls.mean(axis=0)+kls.std(axis=0),alpha=0.4)\n",
    "plt.fill_between(np.arange(rkls.shape[1])+1,rkls.mean(axis=0)-rkls.std(axis=0),rkls.mean(axis=0)+rkls.std(axis=0),alpha=0.4)\n",
    "plt.xticks(np.arange(10))\n",
    "plt.xlabel('time index')\n",
    "plt.ylabel('KL divergence')\n",
    "plt.legend(['without restart','with restart'],loc=2)\n",
    "plt.savefig('../results/stock/MSFT/kl.pdf')"
   ]
  },
  {
   "cell_type": "code",
   "execution_count": null,
   "metadata": {},
   "outputs": [],
   "source": []
  },
  {
   "cell_type": "code",
   "execution_count": null,
   "metadata": {},
   "outputs": [],
   "source": []
  },
  {
   "cell_type": "code",
   "execution_count": null,
   "metadata": {},
   "outputs": [],
   "source": []
  }
 ],
 "metadata": {
  "kernelspec": {
   "display_name": "p36env",
   "language": "python",
   "name": "p36env"
  },
  "language_info": {
   "codemirror_mode": {
    "name": "ipython",
    "version": 3
   },
   "file_extension": ".py",
   "mimetype": "text/x-python",
   "name": "python",
   "nbconvert_exporter": "python",
   "pygments_lexer": "ipython3",
   "version": "3.6.6"
  }
 },
 "nbformat": 4,
 "nbformat_minor": 2
}
